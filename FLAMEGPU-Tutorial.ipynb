{
 "cells": [
  {
   "cell_type": "markdown",
   "id": "56850973-2685-4f12-853d-e0e0a68c510e",
   "metadata": {},
   "source": [
    "# Welcome to the FLAME GPU Sugarscape Tutorial"
   ]
  },
  {
   "cell_type": "markdown",
   "id": "7961c5d7-505f-47c4-a19b-b909f822e696",
   "metadata": {},
   "source": [
    "This is a tutorial for FLAME GPU. An open-source piece of software for the simulation of complex systems. It is domain-independent and can be used for any simulation that uses the idea of agent-based modelling. The agent-based modelling approach of describing individual behaviours and observing the emergent outputs enables FLAME GPU to be used for a wide range of examples such as flocking, cellular biology, and transportation. This tutorial focuses on the classical Sugascape model.\n",
    "\n",
    "The purpose of the tutorial is to introduce the software and the modelling abstraction (API). The software aims to hide the underlying complexities of the GPU such as data structures and even parallelism. That said their are important considerations when moving from a serial modelling methodology to a parallel one which are presented and explained during this exercise.\n",
    "\n",
    "FLAME GPU is developed in C++ but has a Python front end. This tutorial uses Python to define both the model description and the agent functions. There is an extensive set of user guidens and code documentation availabel for FLAME GPU which you can use alongside this tutorial for help: [https://docs.flamegpu.com/](https://docs.flamegpu.com/)\n",
    "\n",
    "![Sugarscape visualisation](./images/pyfgpu2_icon_256.png)\n",
    "\n",
    "## Background Information on Jupyter\n",
    "\n",
    "For the purpose of this tutorial, the Jupyter notebook has been configured to work with FLAME GPU 2. The Jupyter notebook is a web based environment for interactive computing. It is capable of running code in a wide variety of programming languages. The notebook consists of cells which can be of type code or markdown (by default, new cells are created as code cells). You can execute the content of code cells by clicking the Run button. Cells which are actively running code will show a '*' symbol (or 'Play' icon in Colab) and cells which have completed will show a number indicating the position in which the cell was execute (or a green tick in Colab).\n",
    "\n",
    "The notebook will guide you through the various commands required to run and edit a FLAME GPU 2 model using the python interface.\n",
    "\n",
    "### Before Beginning\n",
    "\n",
    "If using Google Colab, please ensure you have this notebook enabled with GPU before running (Runtime->Change runtime type). If you are not using Google Colab you can ignore this instruction.\n",
    "\n",
    "### Running your first code cell\n",
    "\n",
    "The cell below is a simple example of a code cell. Clicking on the play button which appears when hovering over the cell with the mouse will run the code and you should see \"Hello!\" displayed beneath the code cell.\n",
    "\n",
    "### Running on Windows\n",
    "\n",
    "There are some known limitations when running on Windows. E.g. Any errors during compilation of agent functions will be directed to the console which launched the Jupyter notebook rather than displayed in the notebook itself. See 'release notes' in the tutorial [README.md](README.md).  "
   ]
  },
  {
   "cell_type": "code",
   "execution_count": null,
   "id": "3bb4085d-77ae-40bc-972d-08c44eb8fa95",
   "metadata": {},
   "outputs": [],
   "source": [
    "print(\"Hello!\")"
   ]
  },
  {
   "cell_type": "markdown",
   "id": "3c9f419e-831b-413a-bb93-82c40fbf2620",
   "metadata": {},
   "source": [
    "# Installation and Importing of FLAME GPU"
   ]
  },
  {
   "cell_type": "markdown",
   "id": "f1e8aee4-3d93-4bf2-ac23-69ece981ac15",
   "metadata": {},
   "source": [
    "The FLAME GPU python library can be installed through pip. This installs a binary release of the FLAME GPU 2 library. Run the cell below to install the FLAME GPU 2 library. If you are on a system where this has been pre-installed then the library will simply be imported."
   ]
  },
  {
   "cell_type": "code",
   "execution_count": null,
   "id": "b7777ab4-b066-4455-b4c0-65690bf5540d",
   "metadata": {},
   "outputs": [],
   "source": [
    "# check if pyflamegpu is installed and if not install it\n",
    "import importlib.util\n",
    "if importlib.util.find_spec('pyflamegpu') is None:\n",
    "    import sys\n",
    "    !{sys.executable} -m pip install --extra-index-url https://whl.flamegpu.com/whl/cuda120/ pyflamegpu==2.0.0rc2 # type: ignore\n",
    "\n",
    "# Import pyflamegpu and some other libraries we will use in the tutorial\n",
    "import pyflamegpu\n",
    "import pyflamegpu.codegen\n",
    "import sys, random, math\n",
    "import matplotlib.pyplot as plt\n",
    "import importlib\n",
    "\n",
    "#set matplotlib backend to widget for some advanced plotting tools\n",
    "%matplotlib widget \n",
    "\n",
    "# import \n",
    "import sugarscape_common\n",
    "import movement_submodel\n",
    "import sugarscape_visualiser\n",
    "\n",
    "# reload local modules\n",
    "importlib.reload(sugarscape_common)\n",
    "importlib.reload(movement_submodel)\n",
    "importlib.reload(sugarscape_visualiser)"
   ]
  },
  {
   "cell_type": "markdown",
   "id": "220b934f-f6af-44f6-8b1a-4c4d60042cdf",
   "metadata": {},
   "source": [
    "With the library installed, we need to configure the CUDA_PATH environment variable so the library can find the CUDA installation (Linux only as CUDA_PATH) will already be configured in Windows."
   ]
  },
  {
   "cell_type": "code",
   "execution_count": null,
   "id": "14d1c600-ebb7-4db0-a9e6-494f41360436",
   "metadata": {},
   "outputs": [],
   "source": [
    "import platform\n",
    "if platform.system() == 'Linux':\n",
    "    %env CUDA_PATH=/usr/local/cuda"
   ]
  },
  {
   "cell_type": "markdown",
   "id": "cd8e2915-7a1b-4398-ac74-1e84932789ce",
   "metadata": {},
   "source": [
    "# The Sugarscape model"
   ]
  },
  {
   "cell_type": "markdown",
   "id": "4f55da75-2663-404a-9c5a-934197354587",
   "metadata": {},
   "source": [
    "## Model Description\n",
    "\n",
    "The Sugarscape model is a classical agent based model where agents compete for resources within a grid world. It was first proposed by Epstein and Axtell in their book 'Growing Artifical Societies'. The variant of the model that we will work with in this tutorial is equivalent to the model described in chapter 2 which is the same as the 'Sugarscape 2 constant growback' model within NetLogo. It is also used as a benchmark example in the paper 'FLAME GPU 2: Flexible Large Scale Agent Based Simulation on GPUs'.\n",
    "\n",
    "Within this model, $N$ Sugarscape agents occupy a 2D grid environment of `cells`. Each cell contains a level of sugar $s$ which has a maximum value of $W_{max}$. The grid wraps so as to form a torus shaped environment without boundaries. At each time-step sugar grows back within a cell at a rate of $\\alpha$. Agents have a fixed vision distance of $V$ cells in the north, south, east and west directions as well as a sugar wealth, $w$, which represents a quantity of obtained sugar. Within this tutorial all agents have a fixed vision $V=1$. \n",
    "\n",
    "The Sugarscape model is an interesting choice to learn FLAME GPU as it introduces a form of 'conflict' which is not present within the serial version. E.g. \n",
    "Within the serial implementation of this model, at each time-step the order of agents is randomised so that sequentially, each agent can choose to move to a new empty cell, with a preference for cells where there is a higher quantity of sugar available than their current location. If there are multiple potential cells which an agent could move to, then one is chosen from the candidate cells at random. Upon moving to a new cell, or if an agent remains stationary, the agent consumes all of the sugar at the agent's current location and decreases its own sugar wealth by a metabolism $m$ . If at this stage the agents sugar wealth is not greater than zero it dies and is removed from the simulation. \n",
    "\n",
    "![Sugarscape visualisation](./images/sugarscape_visualisation_0.png)\n",
    "\n",
    "## Model Implementation within FLAME GPU\n",
    "\n",
    "Within this tutorial we will consider both Sugarscape agents and empty environment cells as agents. This makes modelling sense, as empty cells within the environment have their own behaviour in the form of sugar growback. Each aspect of the model implementation will be explained as we progress through the tutorial. "
   ]
  },
  {
   "cell_type": "markdown",
   "id": "4bf531dc-d280-456d-ab00-c44b4714a804",
   "metadata": {},
   "source": [
    "# Model Parameters"
   ]
  },
  {
   "cell_type": "markdown",
   "id": "6d06c36e-796d-4a13-addc-bb9d9e49a959",
   "metadata": {},
   "source": [
    "Before defining the model in FLAME GPU we will first define some parameters of the model in Python. Additionally we will define some parameters which will be used later to configure distributions used when generating the initial state of the agent population."
   ]
  },
  {
   "cell_type": "code",
   "execution_count": null,
   "id": "e0b11daf-5f77-4190-bd2e-4a81c7410feb",
   "metadata": {},
   "outputs": [],
   "source": [
    "# Model parameters\n",
    "S_MAX = 4              # S_{max}, env sugar maximum level\n",
    "S_ALPHA = 1            # /alpha, sugar growback rate\n",
    "\n",
    "# Parameters for initialisation of the model (see `Creation of Initial Population Data`)\n",
    "H_MIN = 20             # H_{min}, hotspot minimum distance\n",
    "W_MIN = 5              # W_{min}, agent wealth minimum\n",
    "W_MAX = 25             # W_{max}, agent welath maximum\n",
    "M_MIN = 1              # M_{min}, agent metabolism minimum\n",
    "M_MAX = 4              # M_{max}, agent metabolism maximum\n",
    "P_OCCUPATION = 0.17    # /rho, probability of sugarscape agent occupation\n",
    "\n",
    "SIMULATION_STEPS = 100 # number of simulation steps"
   ]
  },
  {
   "cell_type": "markdown",
   "id": "7d2484a5-3fc8-4a36-b858-4133fbfaefda",
   "metadata": {},
   "source": [
    "*Note: Some additional parameters and values are defined in [sugarscape_common.py](sugarscape_common.py). These include the environment width and height and some constants used to define status of an agent. I.e. 'unoccupied', 'occupied'.*"
   ]
  },
  {
   "cell_type": "markdown",
   "id": "71081e63-6148-4055-9a18-da7e241b4e74",
   "metadata": {},
   "source": [
    "# Creating a model"
   ]
  },
  {
   "cell_type": "markdown",
   "id": "e5c16efa-7c7b-462e-a21f-5cc2cb578852",
   "metadata": {},
   "source": [
    "A FLAME GPU 2 model consists of: \n",
    "\n",
    "1. An environment which holds global information related to the simulation such as constant variables.\n",
    "2. A description of any messages which represent information to communicated between agents.\n",
    "3. A description of agents which includes any state variables that they have and any functions which they can execute.\n",
    "4. A control flow which describes the execution order of any functions within a single iteration of the simulation.\n",
    "5. Initial population data and a simulation object which is used to instantiated to simulation object. \n",
    "\n",
    "In the python build of FLAME GPU 2, all of these model elements are described through the python interface. A `ModelDescription` object acts as a parent/container for the various other components which make up the model. The following sections will describe how to create each of the above components and attach them to the `ModelDescription`. Each code cell defines a particular function. By defining functions rather than running the code directly, they can be updated individually and defined out of order. These functions are then all called in the correct order later in the tutorial.\n",
    "\n",
    "The cell below creates and returns a `ModelDescription` object for the sugarscape model."
   ]
  },
  {
   "cell_type": "code",
   "execution_count": null,
   "id": "6d6cf156-04a8-4ccd-9b5b-80b896c98add",
   "metadata": {},
   "outputs": [],
   "source": [
    "def create_model():\n",
    "    model = pyflamegpu.ModelDescription(\"sugarscape\")\n",
    "    return model"
   ]
  },
  {
   "cell_type": "markdown",
   "id": "e5c59961-561e-4107-bd48-af9ac79daf89",
   "metadata": {},
   "source": [
    "# Defining the Environment"
   ]
  },
  {
   "cell_type": "markdown",
   "id": "c34008a4-fe57-4cea-be4a-02fe3adce0c5",
   "metadata": {},
   "source": [
    "Within FLAME GPU the environment provides a mechanism to provide properties (variables) which can be accessed by all agents within a simulation. We previously defined a number of model parameters which will be used as initial values to environment properties in the cell below. It is important to define these as environment variables as Python global will not be available to agent functions which ultimately will be executed on the GPU device.\n",
    "\n",
    "The cell below defines 4 different values for the agent status. Occupied and unoccupied are obvious in their meaning. The movement requested and movement unresolved status is used within the movement submodel and is explained later in the tutorial. "
   ]
  },
  {
   "cell_type": "code",
   "execution_count": null,
   "id": "3cb1db44-9af1-4bb5-a427-c86b2f5b7157",
   "metadata": {},
   "outputs": [],
   "source": [
    "def define_environment(model):\n",
    "    env = model.Environment()\n",
    "    env.newPropertyInt(\"sugar_growback_rate\", S_ALPHA)\n",
    "    env.newPropertyInt(\"sugar_max_capacity\", S_MAX)\n",
    "    \n",
    "    # agent status\n",
    "    env.newPropertyInt(\"agent_status_unoccupied\", sugarscape_common.AGENT_STATUS_UNOCCUPIED)\n",
    "    env.newPropertyInt(\"agent_status_occupied\", sugarscape_common.AGENT_STATUS_OCCUPIED)\n",
    "    env.newPropertyInt(\"agent_status_movement_requested\", sugarscape_common.AGENT_STATUS_MOVEMENT_REQUESTED)\n",
    "    env.newPropertyInt(\"agent_status_movement_unresolved\", sugarscape_common.AGENT_STATUS_MOVEMENT_UNRESOLVED)"
   ]
  },
  {
   "cell_type": "markdown",
   "id": "07814f5d-8f56-40ea-a186-258006134f86",
   "metadata": {},
   "source": [
    "*Note: Although a default value for each property is set above, there are a number of ways that this can be overridden when creating the simulation object later. This can be useful if instantiating multiple simulations with differing environment properties.* "
   ]
  },
  {
   "cell_type": "markdown",
   "id": "e06178d8-f6c8-4c88-8a29-5a1cbf8abd53",
   "metadata": {},
   "source": [
    "# Defining the Agents"
   ]
  },
  {
   "cell_type": "markdown",
   "id": "2760641c-53a0-4610-a9e4-0edf95ef4e53",
   "metadata": {},
   "source": [
    "A FLAME GPU model can consist of any number of agents. Our Sugarscape model requires only a single agent type that will represent a single cell of the Sugarscape model it. It therefore requires an `x` and `y` position (identifying the position within a regular 2D lattice) and variables that hold information about both Sugarscape agents and the environment cell itself.\n",
    "\n",
    "The agent definition below creates three agent functions (`metabolise`, `growback` and `move`). The `newRTCFunction` method is used to specify these alongside the `pyflamegpu.codegen` module which which has a `translate` function. The `translate` function will take a pure python agent function (the format of which is described later) and transpile (the process of converting source code from one programming language to another) it to C++. The `newRTCFunction` call indicates that it is a **R**un**T**ime **C**ompilation function which will ensure the C++ source is compiled during model initialisation. This translation from Python to C++ for compilation is a requirement of FLAME GPU which uses NVIDIA CUDA to program the GPU device. All agent functions are compiled with a FLAME GPU device API which provides the mechanisms to query agent variables, messages and the environment. If you wish to see the transpiled C++ then you can `print` the output of the `translate` function and inspect this yourself. It has a very close resemblance to the underlying Python.\n",
    "\n",
    "*Note: The definition of an agent does not actually require any specialisation in terms of what type of spatial domain an agent lives within. Agents may may exist within regular grid (as is the case of the Sugarscape model), points within continuous space, a network, or any other domain abstraction. Rather than specialisation of agents, messages are instead specialised as a mechanism for agents to communicate within specific spatial constructs. The `x` and `y` variables exist so that the agent can communicate using the `Array2D` message specialism.*\n",
    "\n",
    "The model variables are mapped to agent variables as follows;\n",
    "\n",
    "| Model Variable | Agent Variable Name | Description\n",
    "| :--- | :--- | :--- |\n",
    "| $s$ | `env_sugar_level` | Environment sugar level |\n",
    "| $m$ | `metabolism` | Metabolism |\n",
    "| $w$ | `sugar_level` | Sugar Wealth |\n",
    "|  | `env_sugar_max` | Each cell has a maximum sugar level which can be no greater than $S_{max}$"
   ]
  },
  {
   "cell_type": "code",
   "execution_count": null,
   "id": "6a67372e-1e3b-406a-95d4-5f2457837f6f",
   "metadata": {},
   "outputs": [],
   "source": [
    "def define_agents(model):\n",
    "    agent = model.newAgent(\"agent\")\n",
    "    \n",
    "    # Generic variables\n",
    "    agent.newVariableInt(\"x\")\n",
    "    agent.newVariableInt(\"y\")\n",
    "    agent.newVariableInt(\"agent_id\")\n",
    "    agent.newVariableInt(\"status\")\n",
    "    # Sugarscape agent specific variables\n",
    "    agent.newVariableInt(\"sugar_level\")\n",
    "    agent.newVariableInt(\"metabolism\")\n",
    "    # Environment cell specific variables\n",
    "    agent.newVariableInt(\"env_sugar_level\")\n",
    "    agent.newVariableInt(\"env_max_sugar_level\")\n",
    "\n",
    "    # Metabolise, growback and move functions\n",
    "    metabolise_fn = agent.newRTCFunction(\"metabolise\", pyflamegpu.codegen.translate(metabolise))\n",
    "    growback_fn = agent.newRTCFunction(\"growback\", pyflamegpu.codegen.translate(growback))\n",
    "    move_fn = agent.newRTCFunction(\"move\", pyflamegpu.codegen.translate(move))\n",
    "\n",
    "    "
   ]
  },
  {
   "cell_type": "markdown",
   "id": "0a45c6ae-e27d-4775-81e8-c0d81ca531ca",
   "metadata": {},
   "source": [
    "# Specifying the Functional Dependencies"
   ]
  },
  {
   "cell_type": "markdown",
   "id": "bf9010b4-5531-4717-b0c9-4cbde89ab50a",
   "metadata": {},
   "source": [
    "A FLAME GPU simulation consists of the execution of a set of simulation steps. Each step has represents a single iteration of the simulation and is made up of a set of agent functions that are executed. The order of function execution creates a directed graph where functions depend on one another either;\n",
    "\n",
    "1. Directly i.e. function 'B' has a dependency on function 'A' if it expects function 'A' to have executed first, or\n",
    "2. Indirectly i.e. function 'B' has a dependency on function 'A' if function b reads a message which function A will output.\n",
    "\n",
    "We have not specified any messages yet within our model but we can specify that our functions have a set of direct dependencies. This can be done either explicitly, by specifying the layers ([see docs](https://docs.flamegpu.com/guide/defining-execution-order/layers.html)) on which function will execute or by specifying the actual dependencies ([see docs](https://docs.flamegpu.com/guide/defining-execution-order/dependency-graph.html)). The later is preferable as greater care must be taken in the specification of layers to ensure that dependencies are respected.\n",
    "\n",
    "The cell below defines a function to specify the functional dependencies. It also adds an execution root, which can be an agent function or in this case a submodel (described later) which is used to provide conflict free movement of the agents. The call to the `generateLayers` function freezes the dependencies and generates a graph of execution layers which respects the dependencies."
   ]
  },
  {
   "cell_type": "code",
   "execution_count": null,
   "id": "269e7235-b633-48b3-a0a5-b01af7a3a99a",
   "metadata": {},
   "outputs": [],
   "source": [
    "def define_dependencies(model, movement_submodel):\n",
    "    \"\"\"\n",
    "    Control Flow\n",
    "    \"\"\"\n",
    "    agent = model.Agent(\"agent\")\n",
    "    move_fn = agent.Function(\"move\")\n",
    "    growback_fn = agent.Function(\"growback\")\n",
    "    metabolise_fn = agent.Function(\"metabolise\")\n",
    "\n",
    "    # specify the dependencies\n",
    "    model.addExecutionRoot(movement_submodel)\n",
    "    move_fn.dependsOn(growback_fn)\n",
    "    growback_fn.dependsOn(metabolise_fn)\n",
    "    metabolise_fn.dependsOn(movement_submodel)\n",
    "    model.generateLayers()\n",
    "    "
   ]
  },
  {
   "cell_type": "markdown",
   "id": "9c43d3a4-3087-4c55-ad64-ca500f08c0b5",
   "metadata": {},
   "source": [
    "# Defining Agent Functions"
   ]
  },
  {
   "cell_type": "markdown",
   "id": "bc696b0a-a962-4c67-ac1b-a8d3b7e55bd3",
   "metadata": {},
   "source": [
    "The Python agent functions referred to in our definition of the agent can now be specified. A limited subset of Python is supported which is restricted to Python features that can be easily transpiled to a C++ equivalent at runtime for compilation. For example Python functionality like generator expressions, arrays, dictionaries, etc. which do not have an obvious C++ equivalent are not permitted and will raise an exception. The subset of supported Python is referred to as *agent Python*. All agent Python functions are required to have a function decorator (i.e. `@pyflamegpu.agent_function`). A brief summary of agent Python functions is provided in the table below.\n",
    "\n",
    "| Action | Code format | Notes\n",
    "| :--- | :--- | :--- |\n",
    "| Write a comment | `# This will be a comment` | |\n",
    "| Declare a local variable | `variable_name = value` | *Variables do not require a type however if a specific type is required this can be inferred i.e.* `variable_name = float(value)`\n",
    "| Read an agent variable | `variable_name = pyflamegpu.getVariableInt(\"variable_name\")` | *Int can be replaced by other types and should match the type used when defining the agent variable in the AgentDescription.* |\n",
    "| Get the value of an environment property of type Int | `pyflamegpy.environment.getPropertyInt(\"property_name\")` | *Int can be replaced by other types.* |\n",
    "| Iterate & access input messages | `for msg in message_in :` <br>&nbsp;&nbsp; `# Each message is now accessible inside this loop via msg` | `message_in.wrap(args...)` *can be used to proivide message wrapping. See the [docs](https://docs.flamegpu.com/guide/agent-functions/agent-communication.html#reading-messages) for more information.* |\n",
    "| Read an input message variable value | `msg.getVariableInt(\"variable_name\");` | *Must be called within a message loop. Int can be replaced by other types.*|\n",
    "| Set an output message variable value | `pyflamegpu.message_out.setVariableInt(\"variable_name\", value_to_set_variable_to)` | *Function definition must have specified a message output. Int can be replaced by other types.* |\n",
    "| Generate a random float in the range [0,1) | `pyflamegpu.random.uniformFloat()` | *Other types of random distributions are described in the [docs].*(https://docs.flamegpu.com/guide/agent-functions/random-numbers.html).|\n",
    "| Function leaves agent alive | `return pyflamegpu.ALIVE` | |\n",
    "| Function kills agent | `return pyflamegpu.DEAD` | |\n",
    "\n",
    "The cell below defines the three agent functions. The `metabolise` and `growback` function are incomplete but can be left as is for now. The move function does not actually move any Sugarscape agents but sets their intention to move by changing the `status` variable to `agent_status_movement_unresolved`. The actual movement and communication via messaging will take place within the movement submodel."
   ]
  },
  {
   "cell_type": "code",
   "execution_count": null,
   "id": "78aa6ccc-e534-46db-b70d-be5532773ef6",
   "metadata": {},
   "outputs": [],
   "source": [
    "@pyflamegpu.agent_function\n",
    "def metabolise(message_in: pyflamegpu.MessageNone, message_out: pyflamegpu.MessageNone):\n",
    "    return pyflamegpu.ALIVE\n",
    "    \n",
    "\n",
    "@pyflamegpu.agent_function\n",
    "def growback(message_in: pyflamegpu.MessageNone, message_out: pyflamegpu.MessageNone):\n",
    "    return pyflamegpu.ALIVE\n",
    "\n",
    "@pyflamegpu.agent_function\n",
    "def move(message_in: pyflamegpu.MessageNone, message_out: pyflamegpu.MessageNone):\n",
    "    status = pyflamegpu.getVariableInt(\"status\");\n",
    "        \n",
    "    # set all active agents to unresolved as they may now want to move\n",
    "    if (status == pyflamegpu.environment.getPropertyInt(\"agent_status_occupied\")) :\n",
    "        status = pyflamegpu.environment.getPropertyInt(\"agent_status_movement_unresolved\")\n",
    "\n",
    "    pyflamegpu.setVariableInt(\"status\", status);\n",
    "\n",
    "    return pyflamegpu.ALIVE"
   ]
  },
  {
   "cell_type": "markdown",
   "id": "c77de09a-e249-43ea-ba62-ba9a1c16276a",
   "metadata": {},
   "source": [
    "# Creation of Initial Population Data"
   ]
  },
  {
   "cell_type": "markdown",
   "id": "7cd3f35f-ceb8-42af-aa91-ac8b3952ee23",
   "metadata": {},
   "source": [
    "*Note: It is not important to fully understand how this code works other than to know that it generates the initial set of agents and the initial sugar distribution.*\n",
    "\n",
    "Initialisation of the originally described Sugarscape model in an environment size of $49 \\times 49$ requires the creation of a sugar distribution that defines a topography of two peaks separated by a valley. In order to define a scalable equivalent model in which the environment size of $D \\times D$ (defined in [sugarscape_common.py](sugarscape_common.py)) can be dynamically specified, the number of sugar peaks with a uniform random position, $P$, can be determined as $\\frac{2D^{2}}{49*49}$. Peaks are not allowed to exist within an Euclidean distance of $20$ of each other within the torus environment to ensure that peaks do not exceed $S_{max}$. Each position $x$ within the environment has an initial sugar volume, $s_{x}$ influenced by position $p$ of the $P$ peaks according to the following Equation;\n",
    "\n",
    "$$s_{x} = \\sum\\limits_{i}^{P} 4 - \\left( 4 \\wedge \\lfloor{\\frac{ \\lVert p_{i} - x \\rVert}{5}}\\rfloor \\right)$$\n",
    "\n",
    "That is, that initial sugar density is a sum of the sugar distributions from each peak given some fixed boundaries where $\\wedge$ indicates the a minimum operator, ensuring that sugar value contributions from each peak are between $4$ and $0$. The maximum sugar level of each cell $x$ is fixed at $s_{x}$ ensuring that the streucture of the sugar peaks remains intact. Each cell has a probability $\\rho$ of being occupied by a Sugarscape agent during initialisation. The initial population size of sugarscape agents has an expected value of $D^2\\rho$. Each sugarscape agent has an initial $w$ drawn from a uniform random distribution with a range of $W_{min}$ and $W_{max}$ with a metabolism $m$ drawn from a uniform random distribution with a range of $M_{min}$ and $M_{max}$.\n",
    "\n",
    "The initial population of agents is created using an `AgentVector`. Individuals within the initial population are accessed by indexing into the vector and agent variables are set using the `setVariableInt` function (as all agent variables are of type Int). Model variables have the same mapping as in [Defining the Agents](#Defining-the-Agents). I.e. $s$ =`env_sugar_level`, $m$ = `metabolism`, $w$ = `sugar_level`. The variable `env_max_sugar_level` represents the maximum sugar level for the specific cell and is equal to the initial value of $s$."
   ]
  },
  {
   "cell_type": "code",
   "execution_count": null,
   "id": "e7569fdd-28fe-43de-86c3-e9fbf2ab6bcd",
   "metadata": {},
   "outputs": [],
   "source": [
    "def initialise_population(model):\n",
    "    # Create some randomised sugar areas for the map\n",
    "    sugar_hotspots = []\n",
    "    # Calculate the number of hotspots (average denisty based on that of the original model)\n",
    "    num_hotspots = int((2 * sugarscape_common.D * sugarscape_common.D) / (49*49))\n",
    "    for i in range(num_hotspots):\n",
    "        attempts = 0\n",
    "        while True:\n",
    "            hs = [random.randint(0, sugarscape_common.D - 1), random.randint(0, sugarscape_common.D - 1)]\n",
    "            # Check if the new hotspot is at least H_MIN units away from existing ones\n",
    "            if all(math.sqrt((hx - hs[0]) ** 2 + (hy - hs[1]) ** 2) >= H_MIN for hx, hy in sugar_hotspots):\n",
    "                sugar_hotspots.append(hs)\n",
    "                break  # Valid position found, move to the next hotspot\n",
    "            # limit attemtps to create a position\n",
    "            attempts += 1\n",
    "            if attempts == 100:\n",
    "                print(f\"Warning: Maximum attempts reached creating unique location for sugar hotspot {i}.\")\n",
    "                break\n",
    "\n",
    "    # Initialize agent population\n",
    "    init_pop = pyflamegpu.AgentVector(model.Agent(\"agent\"), sugarscape_common.D * sugarscape_common.D)\n",
    "    # Create some random distributions\n",
    "    normal = random.uniform \n",
    "    agent_sugar_dist = lambda: random.randint(W_MIN, W_MAX)\n",
    "    agent_metabolism_dist = lambda: random.randint(M_MIN, M_MAX)\n",
    "    # loop to create agents / cells\n",
    "    i = 0\n",
    "    for x in range(sugarscape_common.D):\n",
    "        for y in range(sugarscape_common.D):\n",
    "            instance = init_pop[i]\n",
    "            i += 1\n",
    "            instance.setVariableInt(\"x\", x)\n",
    "            instance.setVariableInt(\"y\", y)\n",
    "            # chance of cell holding an agent\n",
    "            if normal(0, 1) < P_OCCUPATION:\n",
    "                instance.setVariableInt(\"agent_id\", i)\n",
    "                instance.setVariableInt(\"status\", sugarscape_common.AGENT_STATUS_OCCUPIED)\n",
    "                instance.setVariableInt(\"sugar_level\", agent_sugar_dist())\n",
    "                instance.setVariableInt(\"metabolism\", agent_metabolism_dist())\n",
    "            else:\n",
    "                instance.setVariableInt(\"agent_id\", -1)\n",
    "                instance.setVariableInt(\"status\", sugarscape_common.AGENT_STATUS_UNOCCUPIED)\n",
    "                instance.setVariableInt(\"sugar_level\", 0)\n",
    "                instance.setVariableInt(\"metabolism\", 0)\n",
    "    \n",
    "            # Environment-specific variable\n",
    "            env_sugar_lvl = 0\n",
    "            hotspot_core_size = 5\n",
    "    \n",
    "            for hs in sugar_hotspots:\n",
    "                hs_x, hs_y = hs  # Unpack hotspot coordinates\n",
    "                # Compute Euclidean distance to hotspot\n",
    "                hs_dist = math.sqrt((hs_x - x) ** 2 + (hs_y - y) ** 2)\n",
    "                # Compute environmental sugar level\n",
    "                env_sugar_lvl += max(0, 4 - min(4, math.floor(hs_dist / hotspot_core_size)))\n",
    "            env_sugar_lvl = min(env_sugar_lvl, S_MAX)\n",
    "    \n",
    "            # Set environmental sugar variables\n",
    "            instance.setVariableInt(\"env_sugar_level\", env_sugar_lvl)\n",
    "            instance.setVariableInt(\"env_max_sugar_level\", env_sugar_lvl) # All cells begin at their local max sugar\n",
    "    \n",
    "    return init_pop"
   ]
  },
  {
   "cell_type": "markdown",
   "id": "2517a5cc-28ef-4609-87c9-98397a07d35f",
   "metadata": {},
   "source": [
    "# Create the Simulation"
   ]
  },
  {
   "cell_type": "markdown",
   "id": "4c478fb2-1777-4438-9cef-52bbd98927e7",
   "metadata": {},
   "source": [
    "We have now defined the model, environment, agents, the functional dependencies and the initial population data for out model. The last step is to create a simulation object that will instantiate out model with the initial population data ready for execution. Before we do this we will need to add a mechanism for agents to move within our model. FLAME GPU provides an abstraction called a submodel (a model within a model) and a submodel to provide movement of the Sugarscape agents is provided in [movement_submodel.py](movement_submodel.py). This is added to our Sugarscape model by calling the `add_movement_submodel` function. The `define_dependancies` function already inserted the sub model into the function execution graph.\n",
    "\n",
    "The cell below creates the Cuda simulation ready for execution."
   ]
  },
  {
   "cell_type": "code",
   "execution_count": null,
   "id": "31e1079f-baba-4f60-87a5-4db47eddb3ff",
   "metadata": {},
   "outputs": [],
   "source": [
    "def initialise_simulation():\n",
    "    global model    # make the model global so it can be accessed by other cells\n",
    "\n",
    "    # create the model and define the environmet, agents and dependancies\n",
    "    model = create_model()\n",
    "    define_environment(model)\n",
    "    define_agents(model)\n",
    "    submodel = movement_submodel.add_movement_submodel(model)  # Create a movement submodel to handle agent communication, negotiation and movement\n",
    "    define_dependencies(model, submodel)\n",
    "    \n",
    "    # create an initial population of agents\n",
    "    init_pop = initialise_population(model)\n",
    "\n",
    "    # create a CUDA simulation and set the initial data\n",
    "    cuda_simulation = pyflamegpu.CUDASimulation(model)\n",
    "    cuda_simulation.setPopulationData(init_pop);\n",
    "    \n",
    "    return cuda_simulation\n"
   ]
  },
  {
   "cell_type": "markdown",
   "id": "ab3567cf-ae1d-440f-b7c4-3c01856c7042",
   "metadata": {
    "jp-MarkdownHeadingCollapsed": true
   },
   "source": [
    "## Explaining the Movement Submodel"
   ]
  },
  {
   "cell_type": "markdown",
   "id": "4d71baef-2534-414c-a385-c85dd20ebff6",
   "metadata": {},
   "source": [
    "*Note: If you do not wish to understand the movement submodel and why it is required this section can be skipped.*\n",
    "\n",
    "Submodels within FLAME GPU exist as a mechanism to resolve conflicts which may naturally occur within the modelling abstraction. Within the Sugarscape model, conflict occurs as a result of agent movement but can occur within models for a wide range of reasons where there is any form of competition. (e.g. in chemical bonding, enforcing of mechanical constraints, etc). Consider within the Sugarscape model an agent function that attempts to allow the agents to move. First it would have to read a message from any neighbouring cells to understand the sugar distribution within the environment and then the agent would attempt to move to areas of high sugar concentration. Within a parallel modelling framework like FLAME GPU it is highly likely that multiple agents attempting to move simultaneously would result in agents occupying the same space, competing for sugar within the same cell. The original implementation of the model avoids this conflict as each agent executes its behaviour in serial with the order randomised for fairness. Whilst  serialisation is effective it is very slow.\n",
    "\n",
    "The submodel approach allows a process to occur in which Sugarscape agents will negotiate to move fairly without collisions by respecting a randomly assigned priority. Each iteration of the submodel will allow agents to move. Within the model a function is used to output the cell status, agents then bid to move advertising their priority, the cells consider the requests and respond to confirm movement of the agent with highest priority. The highest priority agent receives this response and can ensure it has left the cell it currently occupies. If an agent is unable to move due to a higher priority agent taking precedence, then the submodel will run again, until either all agents have had the opportunity to move or the maximum number of movement attempts is exceeded (there is a upper bound of 9 attempts which is rarely reached but represents an agent attempting to move to every neighbouring cell). \n",
    "\n",
    "An example of agent collision is shown on the right hand side of the figure below using a simplistic two agent example. In this case, each agent initially requests to move to the same cell location. The cell responds by selecting the agent with highest priority therefore  allowing a single agent to move in the first iteration of the model. An exit condition only allows the main simulation to resume once all agents are *resolved* and as such a second iteration of the sub-model is required for the second agent to find a collision free location. The function dependency graph of the submodel showing its dependency to the `metabolise` function is shown on the left of the image below (the `growback` and `move` functions from the main model are omitted).\n",
    "\n",
    "![Sugarscape submodel](.\\images\\submodel.png)\n",
    "\n",
    "The submodel code is available within the [movement_submodel.py](movement_submodel.py) file. the model format follows that described in this tutorial with the addition of messages and message input and output within the agent functions.\n"
   ]
  },
  {
   "cell_type": "markdown",
   "id": "564cd89a-364a-4537-ae4f-e3e2b1977edf",
   "metadata": {},
   "source": [
    "# Running the Simulation"
   ]
  },
  {
   "cell_type": "markdown",
   "id": "0097c6c9-509e-42f8-83e6-4b8fe8d62db9",
   "metadata": {},
   "source": [
    "In order to run the simulation will call the `step` function a number of times. Each call will execute a single iteration of the main Sugarscape model (the sub model may run many times per iteration until the exit condition is met). The `exportData` function can be used prior to simulation and after each step to output the complete state of the simulation including all agent variables. Whilst this is expense in terms of IO it will allow us to visualise the data or perform further analysis.\n",
    "\n",
    "In this tutorial we perform a single simulation, FLAME GPU also supports ensembles of simulations which will allow multiple simulations to execute concurrently, potentially using multiple GPU devices (including over MPI). This can be very effective for parameter sweeps or optimisation.\n",
    "\n",
    "The cell below defines a function to execute and export the simulation data. It also calls this function."
   ]
  },
  {
   "cell_type": "code",
   "execution_count": null,
   "id": "07d66431-ea27-42ab-a0ad-1f74258b0891",
   "metadata": {},
   "outputs": [],
   "source": [
    "def execute_simulation():\n",
    "    # delete previous data\n",
    "    !rm -rf data\n",
    "    !mkdir data\n",
    "    \n",
    "    cuda_simulation = initialise_simulation() \n",
    "    # Log the initial state\n",
    "    cuda_simulation.exportData(f\"data/0.json\")\n",
    "    # simulate for number of steps and log the complete state\n",
    "    for i in range(SIMULATION_STEPS):\n",
    "        cuda_simulation.step()\n",
    "        cuda_simulation.exportData(f\"data/{i+1}.json\")\n",
    "    print(\"Simulation complete\")  \n",
    "\n",
    "execute_simulation()    "
   ]
  },
  {
   "cell_type": "markdown",
   "id": "20a00658-fe00-460c-bf1d-889be8694405",
   "metadata": {},
   "source": [
    "# Visualising the Output"
   ]
  },
  {
   "cell_type": "markdown",
   "id": "d609610f-042d-4abd-8cc4-3f59397fb177",
   "metadata": {},
   "source": [
    "The Python module `sugarscape_visualiser` has some helpful function to help in visualising the simulation output using MatplotLib. You can call the following;\n",
    "\n",
    "1. `sugarscape_visualiser.plot_state(step_no)` - This will plot a single state of the sugarscape model.\n",
    "2. `sugarscape_visualiser.display_states(simulation_steps)` - This will create an interactive plot where a slider control the step number so that the model outputs at each step can be observed.\n",
    "3. `sugarscape_visualiser.animate_states(simulation_steps)` - This will create an animation from step 0 to `simulation_steps` to observe the simulations progression.\n",
    "\n",
    "Try changing the value of `visualisation_mode` in the cell below to see the different visualisation options. If you wish to plot the results using a different visualisation option but have not re-run the simulation then then you can set `reload` to `False`.\n",
    "\n",
    "*Note: There are much more efficient mechanisms for [visualisation](https://docs.flamegpu.com/guide/visualisation/index.html) of FLAME GPU simulation when working with a local GPU (i.e. a GPU on your own machine rather than in a Jupyter notebook). Additionally FLAME GPU has many options for [logging](https://docs.flamegpu.com/guide/visualisation/index.html) agent state variables using reduction operators rather than exporting the entire simulation state. Logging will perform the reductions on the GPU avoiding large data IO costs.*"
   ]
  },
  {
   "cell_type": "code",
   "execution_count": null,
   "id": "fd97bd3a-1f89-484e-bed5-e3df76b34e09",
   "metadata": {},
   "outputs": [],
   "source": [
    "def visualise_model(visualisation_mode = 'display', reload=True): # valid visualisation_mode inputs are 'display', 'plot', 'animate'\n",
    "    # reload data if reload is true\n",
    "    if reload:\n",
    "        sugarscape_visualiser.load_data(SIMULATION_STEPS)\n",
    "\n",
    "    # select which visualisation mode\n",
    "    if visualisation_mode == 'plot':\n",
    "        sugarscape_visualiser.plot_state(0)\n",
    "        sugarscape_visualiser.plot_state(SIMULATION_STEPS)\n",
    "    elif visualisation_mode == 'animate':\n",
    "        sugarscape_visualiser.animate_states(SIMULATION_STEPS)\n",
    "    elif visualisation_mode == 'display':\n",
    "        sugarscape_visualiser.display_states(SIMULATION_STEPS)\n",
    "\n",
    "# visualise the simulation\n",
    "visualise_model(visualisation_mode = 'display')"
   ]
  },
  {
   "cell_type": "markdown",
   "id": "173572af-0d2c-40a4-8a26-917270994035",
   "metadata": {},
   "source": [
    "The simulation should progress by allowing each agent to move to a favourable position. As there is no behaviour yet specified for migration and growback the Sugarscape agents will not change their sugar wealth and the environmental sugar will remain constant. The behaviour observed should show some migration of agents to higher concentrations of sugar. E.g. Where a Sugarscape agent has an opportunity to pass a boundary of increased environmental sugar level it will do so. As such the sugar peaks will become increasingly populated by agents which will increase to competition of movement."
   ]
  },
  {
   "cell_type": "markdown",
   "id": "45c30a41-8947-4881-ae95-29eeea0c7d7c",
   "metadata": {},
   "source": [
    "# Tutorial Exercise 1"
   ]
  },
  {
   "cell_type": "markdown",
   "id": "89af6ef0-b588-489a-8aee-ce0484db993a",
   "metadata": {},
   "source": [
    "## 1.1 Define the Behaviour of the Metabolise Function"
   ]
  },
  {
   "cell_type": "markdown",
   "id": "eb8cc745-e285-479f-9577-252e490f161c",
   "metadata": {},
   "source": [
    "For our first tutorial exercise we will complete the behaviour of the metabolise function in the cell below.\n",
    "\n",
    "1. Create a local variable for agents sugar level, environment sugar level, the metabolism and the agents status. Get these values from the corresponding agent variables `sugar_level`, `env_sugar_level`, `metabolism` and `status` respectively.\n",
    "2. Perform a check to see if the agent status is either `\"agent_status_occupied\"`  and if so perform the following tasks\n",
    "    * 2.1. Check the environment sugar level. If it is greater than zero then the agent should consume the sugar at the location. *Hint: increase the local variable for agent sugar level and set the local variable for the environment sugar level to 0.*\n",
    "    * 2.2. Metabolise sugar. *Hint: reduce the local variable for agent sugar level by the metabolism value*.\n",
    "    * 2.3 If the agents sugar level is below zero then the agent should die and the agents state variables should be updated to reflect this. *Hint: the status should be set to `\"agent_status_unoccupied\"`, the `agent_id` should be set to `-1` and the metabolism value set to `0`.\n",
    "3. The agent sugar level and environment sugar level should be set from the local variables.\n",
    "\n",
    "Use the cell below to modify the metabolise function, run the simulation and visualise the output. You can simply re-run this cell if you make changes. If you produce an invalid agent function then the output will produce a runtime error with the runtime compilation error reported in the output. \n",
    "\n",
    "*Note: Any compilation errors will be from the transpiled C++ rather than the pure Python but it will give a fairly clear indication of which part of the agent function is incorrect*.\n",
    "\n",
    "*Note 2: Running this cell will be slow as the agent function must be runtime compiled. Each time an agent function changes the compilation will need to take place again. If the agent functions are not changed then they will be cached and you will notice an improvement in the runtime.* "
   ]
  },
  {
   "cell_type": "code",
   "execution_count": null,
   "id": "bb495d1a-72f5-4333-92d7-3b6db8758823",
   "metadata": {},
   "outputs": [],
   "source": [
    "@pyflamegpu.agent_function\n",
    "def metabolise(message_in: pyflamegpu.MessageNone, message_out: pyflamegpu.MessageNone):\n",
    "\n",
    "    # TODO: Add your code here\n",
    "    \n",
    "    return pyflamegpu.ALIVE\n",
    "\n",
    "\n",
    "execute_simulation() \n",
    "visualise_model()"
   ]
  },
  {
   "cell_type": "markdown",
   "id": "047f344d-fcaf-476d-960f-75fd6010b29c",
   "metadata": {},
   "source": [
    "If you have completed the exercise correctly you should observe the agents migrating as they did before, however, now they will consume the sugar within the environment until it has run out. Once they have consumed all the sugar the agents will begin to die."
   ]
  },
  {
   "cell_type": "markdown",
   "id": "6d967cb5-c077-4336-86a2-b0ecac493000",
   "metadata": {
    "jp-MarkdownHeadingCollapsed": true
   },
   "source": [
    "### Exercise 1.1 Solution"
   ]
  },
  {
   "cell_type": "markdown",
   "id": "a860f729-5333-4c8b-9c65-cc7206ddff20",
   "metadata": {},
   "source": [
    "The code below provides the solution for exercise 1.1."
   ]
  },
  {
   "cell_type": "code",
   "execution_count": null,
   "id": "9316eb98-8840-485a-941d-7f2198714d9a",
   "metadata": {},
   "outputs": [],
   "source": [
    "@pyflamegpu.agent_function\n",
    "def metabolise(message_in: pyflamegpu.MessageNone, message_out: pyflamegpu.MessageNone):\n",
    "    agent_sugar_level = pyflamegpu.getVariableInt(\"sugar_level\")\n",
    "    env_sugar_level = pyflamegpu.getVariableInt(\"env_sugar_level\")\n",
    "    status = pyflamegpu.getVariableInt(\"status\")\n",
    "    metabolism = pyflamegpu.getVariableInt(\"metabolism\")\n",
    "\n",
    "    # metabolise if occupied\n",
    "    if (status == pyflamegpu.environment.getPropertyInt(\"agent_status_occupied\")):\n",
    "        \n",
    "        # store any sugar present in the cell\n",
    "        if (env_sugar_level > 0) :\n",
    "            agent_sugar_level += env_sugar_level\n",
    "            # Occupied cells are marked as -1 sugar.\n",
    "            env_sugar_level = 0;\n",
    "\n",
    "        # metabolise\n",
    "        agent_sugar_level -= metabolism\n",
    "\n",
    "        # check if agent dies\n",
    "        if (agent_sugar_level <= 0) :\n",
    "            status = pyflamegpu.environment.getPropertyInt(\"agent_status_unoccupied\");\n",
    "            # env_sugar_level = 0;\n",
    "            pyflamegpu.setVariableInt(\"agent_id\", -1);\n",
    "            pyflamegpu.setVariableInt(\"metabolism\", 0);\n",
    "            pyflamegpu.setVariableInt(\"status\", status);\n",
    "\n",
    "    pyflamegpu.setVariableInt(\"sugar_level\", agent_sugar_level);\n",
    "    pyflamegpu.setVariableInt(\"env_sugar_level\", env_sugar_level);\n",
    "\n",
    "    return pyflamegpu.ALIVE\n",
    "\n",
    "# run the model and visualise the output\n",
    "execute_simulation() \n",
    "visualise_model()\n"
   ]
  },
  {
   "cell_type": "markdown",
   "id": "4ba9fc3f-0b74-4933-a3ff-e3b34cbbdbaa",
   "metadata": {},
   "source": [
    "## 1.2 Define the Behaviour of the Growback Function"
   ]
  },
  {
   "cell_type": "markdown",
   "id": "6dac036a-206a-43ae-8d85-2e5f26431cca",
   "metadata": {},
   "source": [
    "In order to extend our model we will now implement the behaviour of the `growback` function for sugar within the environment. In the cell below extend the `growback` function by adding the following behaviour.\n",
    "\n",
    "1. Create a local variable for environment sugar level, the environment maximum sugar level and the agents status. Get these values from the corresponding agent variables `env_sugar_level`, `env_max_sugar_level` and `status` respectively.\n",
    "2. Perform a check to see if the agent status is either `\"agent_status_unoccupied\"`  and if so perform the following tasks\n",
    "    * 2.1. Increase the local variable for the environment sugar level by the sugar growback rate. *Hint: The growback rate is an environment property called `sugar_growback_rate`*\n",
    "    * 2.2 If the local variable for the environment sugar level exceeds the maximum value permitted for this cell then limit it to the maximum value.\n",
    "3. The agents environment sugar level should be set from the local variable.\n",
    "\n",
    "You can re-run this cell if you make changes. If you produce an invalid agent function then the output will produce a runtime error with the runtime compilation error reported in the output. \n"
   ]
  },
  {
   "cell_type": "code",
   "execution_count": null,
   "id": "3505893c-c8ca-4970-b9e4-6ec98bbe4328",
   "metadata": {},
   "outputs": [],
   "source": [
    "@pyflamegpu.agent_function\n",
    "def growback(message_in: pyflamegpu.MessageNone, message_out: pyflamegpu.MessageNone):\n",
    "\n",
    "    # TODO: Add your code here\n",
    "\n",
    "    return pyflamegpu.ALIVE\n",
    "\n",
    "# run the model and visualise the output\n",
    "execute_simulation() \n",
    "visualise_model()"
   ]
  },
  {
   "cell_type": "markdown",
   "id": "e5672553-5bb5-42b5-bbb3-4507ffe8718c",
   "metadata": {},
   "source": [
    "If you have completed the exercise correctly then the environment should grown back and the agents should migrate and consume sugar. Over time this will each an equilibrium where agents continue to consume sugar as it grows back within the environment."
   ]
  },
  {
   "cell_type": "markdown",
   "id": "3cb7afeb-88ad-4a58-93b6-f6a48eafcf90",
   "metadata": {
    "jp-MarkdownHeadingCollapsed": true
   },
   "source": [
    "### Exercise 1.2 Solution"
   ]
  },
  {
   "cell_type": "markdown",
   "id": "c95877dd-1269-44c2-bcc2-a2704433b3e2",
   "metadata": {},
   "source": [
    "The code below provides the solution for exercise 1.1."
   ]
  },
  {
   "cell_type": "code",
   "execution_count": null,
   "id": "73bf8872-96ae-43bf-af0c-682950fdb67e",
   "metadata": {},
   "outputs": [],
   "source": [
    "@pyflamegpu.agent_function\n",
    "def growback(message_in: pyflamegpu.MessageNone, message_out: pyflamegpu.MessageNone):\n",
    "    env_sugar_level = pyflamegpu.getVariableInt(\"env_sugar_level\");\n",
    "    status = pyflamegpu.getVariableInt(\"status\");\n",
    "    env_max_sugar_level = pyflamegpu.getVariableInt(\"env_max_sugar_level\");\n",
    "    \n",
    "    # growback if unoccupied\n",
    "    if (status == pyflamegpu.environment.getPropertyInt(\"agent_status_unoccupied\")) :\n",
    "        env_sugar_level += pyflamegpu.environment.getPropertyInt(\"sugar_growback_rate\")\n",
    "        if (env_sugar_level > env_max_sugar_level) :\n",
    "            env_sugar_level = env_max_sugar_level\n",
    "            \n",
    "\n",
    "    pyflamegpu.setVariableInt(\"env_sugar_level\", env_sugar_level);\n",
    "\n",
    "    return pyflamegpu.ALIVE\n",
    "\n",
    "# run the model and visualise the output\n",
    "execute_simulation() \n",
    "visualise_model()"
   ]
  },
  {
   "cell_type": "markdown",
   "id": "b26a1013-6b3e-48ec-a4ee-8f23d2b17662",
   "metadata": {},
   "source": [
    "# Tutorial Exercise 2"
   ]
  },
  {
   "cell_type": "markdown",
   "id": "d423f5cc-e300-4806-a4d2-d1c070e47a4b",
   "metadata": {},
   "source": [
    "You now have a complete Sugarscape model which demonstrates migration with continuous growback. From here there are many options to extend the model which are left as a user exercise. For example you could (with indicator of difficulty);\n",
    "\n",
    "1) Modify the model parameters to observe the effects on the emergent behaviour of the population. (Easy)\n",
    "2) Add [logging](https://docs.flamegpu.com/guide/visualisation/index.html) to the model to create plots of the Sugarscape agent population. (Med)\n",
    "3) Create an [ensemble of simulations](https://docs.flamegpu.com/guide/running-multiple-simulations/index.html) and plot (rather than visualise) how varying a model paramter impacts the emergent behaviour. E.g. population size or sugar wealth. (Hard)\n",
    "4) Add reproduction behaviour to the model. This can be achieved by;\n",
    "    * Adding a gender and age (in iterations) to the agents\n",
    "    * Creating a reproduction rule where female agents within some age limit will select the highest priority male to create an offspring which will be born with half the sugar from each parent. If there is a collision for the birth location the highest priority female wins. (Hard)\n",
    "5) Add complex reproduction behaviour to the model where a submodel is used to ensure that females can select a free cell for offspring in the case of competition. (Very Hard)\n",
    "\n",
    "Alternatively you could add other forms of behaviour such as disease propagation (i.e. A simple SIR type model) to the mobile agents."
   ]
  },
  {
   "cell_type": "markdown",
   "id": "8fa9bc48-ac62-43c4-a303-8858560dc004",
   "metadata": {},
   "source": []
  }
 ],
 "metadata": {
  "kernelspec": {
   "display_name": "Python 3 (ipykernel)",
   "language": "python",
   "name": "python3"
  },
  "language_info": {
   "codemirror_mode": {
    "name": "ipython",
    "version": 3
   },
   "file_extension": ".py",
   "mimetype": "text/x-python",
   "name": "python",
   "nbconvert_exporter": "python",
   "pygments_lexer": "ipython3",
   "version": "3.12.9"
  }
 },
 "nbformat": 4,
 "nbformat_minor": 5
}
