{
 "cells": [
  {
   "cell_type": "markdown",
   "id": "56850973-2685-4f12-853d-e0e0a68c510e",
   "metadata": {},
   "source": [
    "# Welcome to the FLAME GPU Sugarscape Tutorial"
   ]
  },
  {
   "cell_type": "markdown",
   "id": "7961c5d7-505f-47c4-a19b-b909f822e696",
   "metadata": {},
   "source": [
    "This is a tutorial for FLAME GPU. An open-source piece of software for the simulation of complex systems. It is domain-independent and can be used for any simulation that uses the idea of agent-based modelling. The agent-based modelling approach of describing individual behaviours and observing the emergent outputs enables FLAME GPU to be used for a wide range of examples such as flocking, cellular biology, and transportation. This tutorial focuses on the classical Sugascape model.\n",
    "\n",
    "The purpose of the tutorial is to introduce the software and the modelling abstraction (API). The software aims to hide the underlying complexities of the GPU such as data structures and even parallelism. That said their are important considerations when moving from a serial modelling methodology to a parallel one which are presented and explained during this exercise.\n",
    "\n",
    "FLAME GPU is developed in C++ but has a Python front end. This tutorial uses Python to define both the model description and the agent functions. There is an extensive set of user guidens and code documentation availabel for FLAME GPU which you can use alongside this tutorial for help: [https://docs.flamegpu.com/](https://docs.flamegpu.com/)\n",
    "\n",
    "![Sugarscape visualisation](./images/pyfgpu2_icon_256.png)\n",
    "\n",
    "## Background Information on Jupyter\n",
    "\n",
    "For the purpose of this tutorial, the Jupyter notebook has been configured to work with FLAME GPU 2. The Jupyter notebook is a web based environment for interactive computing. It is capable of running code in a wide variety of programming languages. The notebook consists of cells which can be of type code or markdown (by default, new cells are created as code cells). You can execute the content of code cells by clicking the Run button. Cells which are actively running code will show a '*' symbol (or 'Play' icon in Colab) and cells which have completed will show a number indicating the position in which the cell was execute (or a green tick in Colab).\n",
    "\n",
    "The notebook will guide you through the various commands required to run and edit a FLAME GPU 2 model using the python interface.\n",
    "\n",
    "### Before Beginning\n",
    "\n",
    "If using Google Colab, please ensure you have this notebook enabled with GPU before running (Runtime->Change runtime type). If you are not using Google Colab you can ignore this instruction.\n",
    "\n",
    "### Running your first code cell\n",
    "\n",
    "The cell below is a simple example of a code cell. Clicking on the play button which appears when hovering over the cell with the mouse will run the code and you should see \"Hello!\" displayed beneath the code cell.\n",
    "\n",
    "### Running on Windows\n",
    "\n",
    "There are some known limitations when running on Windows. E.g. Any errors during compilation of agent functions will be directed to the console which launched the Jupyter notebook rather than displayed in the notebook itself. See 'release notes' in the tutorial [README.md](README.md).  "
   ]
  },
  {
   "cell_type": "code",
   "execution_count": 33,
   "id": "3bb4085d-77ae-40bc-972d-08c44eb8fa95",
   "metadata": {},
   "outputs": [
    {
     "name": "stdout",
     "output_type": "stream",
     "text": [
      "Hello!\n"
     ]
    }
   ],
   "source": [
    "print(\"Hello!\")"
   ]
  },
  {
   "cell_type": "markdown",
   "id": "3c9f419e-831b-413a-bb93-82c40fbf2620",
   "metadata": {},
   "source": [
    "# Installation and Importing of FLAME GPU"
   ]
  },
  {
   "cell_type": "markdown",
   "id": "f1e8aee4-3d93-4bf2-ac23-69ece981ac15",
   "metadata": {},
   "source": [
    "The FLAME GPU python library can be installed through pip. This installs a binary release of the FLAME GPU 2 library. Run the cell below to install the FLAME GPU 2 library. If you are on a system where this has been pre-installed then the library will simply be imported."
   ]
  },
  {
   "cell_type": "code",
   "execution_count": 34,
   "id": "b7777ab4-b066-4455-b4c0-65690bf5540d",
   "metadata": {},
   "outputs": [
    {
     "data": {
      "text/plain": [
       "<module 'sugarscape_visualiser' from 'D:\\\\Code\\\\pyflamegpu-tutorial\\\\sugarscape_visualiser.py'>"
      ]
     },
     "execution_count": 34,
     "metadata": {},
     "output_type": "execute_result"
    }
   ],
   "source": [
    "# check if pyflamegpu is installed and if not install it\n",
    "import importlib.util\n",
    "if importlib.util.find_spec('pyflamegpu') is None:\n",
    "    import sys\n",
    "    !{sys.executable} -m pip install --extra-index-url https://whl.flamegpu.com/whl/cuda120/ pyflamegpu==2.0.0rc2 # type: ignore\n",
    "\n",
    "# Import pyflamegpu and some other libraries we will use in the tutorial\n",
    "import pyflamegpu\n",
    "import pyflamegpu.codegen\n",
    "import sys, random, math\n",
    "import matplotlib.pyplot as plt\n",
    "import importlib\n",
    "\n",
    "#set matplotlib backend to widget for some advanced plotting tools\n",
    "%matplotlib widget \n",
    "\n",
    "# import \n",
    "import sugarscape_common\n",
    "import movement_submodel\n",
    "import sugarscape_visualiser\n",
    "\n",
    "# reload local modules\n",
    "importlib.reload(sugarscape_common)\n",
    "importlib.reload(movement_submodel)\n",
    "importlib.reload(sugarscape_visualiser)"
   ]
  },
  {
   "cell_type": "markdown",
   "id": "220b934f-f6af-44f6-8b1a-4c4d60042cdf",
   "metadata": {},
   "source": [
    "With the library installed, we need to configure the CUDA_PATH environment variable so the library can find the CUDA installation (Linux only as CUDA_PATH) will already be configured in Windows."
   ]
  },
  {
   "cell_type": "code",
   "execution_count": 35,
   "id": "14d1c600-ebb7-4db0-a9e6-494f41360436",
   "metadata": {},
   "outputs": [],
   "source": [
    "import platform\n",
    "if platform.system() == 'Linux':\n",
    "    %env CUDA_PATH=/usr/local/cuda"
   ]
  },
  {
   "cell_type": "markdown",
   "id": "cd8e2915-7a1b-4398-ac74-1e84932789ce",
   "metadata": {},
   "source": [
    "# The Sugarscape model"
   ]
  },
  {
   "cell_type": "markdown",
   "id": "4f55da75-2663-404a-9c5a-934197354587",
   "metadata": {},
   "source": [
    "## Model Description\n",
    "\n",
    "The Sugarscape model is a classical agent based model where agents compete for resources within a grid world. It was first proposed by Epstein and Axtell in their book 'Growing Artifical Societies'. The variant of the model that we will work with in this tutorial is equivalent to the model described in chapter 2 which is the same as the 'Sugarscape 2 constant growback' model within NetLogo. It is also used as a benchmark example in the paper 'FLAME GPU 2: Flexible Large Scale Agent Based Simulation on GPUs'.\n",
    "\n",
    "Within this model, $N$ Sugarscape agents occupy a 2D grid environment of `cells`. Each cell contains a level of sugar $s$ which has a maximum value of $W_{max}$. The grid wraps so as to form a torus shaped environment without boundaries. At each time-step sugar grows back within a cell at a rate of $\\alpha$. Agents have a fixed vision distance of $V$ cells in the north, south, east and west directions as well as a sugar wealth, $w$, which represents a quantity of obtained sugar. Within this tutorial all agents have a fixed vision $V=1$. \n",
    "\n",
    "The Sugarscape model is an interesting choice to learn FLAME GPU as it introduces a form of 'conflict' which is not present within the serial version. E.g. \n",
    "Within the serial implementation of this model, at each time-step the order of agents is randomised so that sequentially, each agent can choose to move to a new empty cell, with a preference for cells where there is a higher quantity of sugar available than their current location. If there are multiple potential cells which an agent could move to, then one is chosen from the candidate cells at random. Upon moving to a new cell, or if an agent remains stationary, the agent consumes all of the sugar at the agent's current location and decreases its own sugar wealth by a metabolism $m$ . If at this stage the agents sugar wealth is not greater than zero it dies and is removed from the simulation. \n",
    "\n",
    "![Sugarscape visualisation](./images/sugarscape_visualisation_0.png)\n",
    "\n",
    "## Model Implementation within FLAME GPU\n",
    "\n",
    "Within this tutorial we will consider both Sugarscape agents and empty environment cells as agents. This makes modelling sense, as empty cells within the environment have their own behaviour in the form of sugar growback. Each aspect of the model implementation will be explained as we progress through the tutorial. "
   ]
  },
  {
   "cell_type": "markdown",
   "id": "4bf531dc-d280-456d-ab00-c44b4714a804",
   "metadata": {},
   "source": [
    "# Model Parameters"
   ]
  },
  {
   "cell_type": "markdown",
   "id": "6d06c36e-796d-4a13-addc-bb9d9e49a959",
   "metadata": {},
   "source": [
    "Before defining the model in FLAME GPU we will first define some parameters of the model in Python. Additionally we will define some parameters which will be used later to configure distributions used when generating the initial state of the agent population."
   ]
  },
  {
   "cell_type": "code",
   "execution_count": 36,
   "id": "e0b11daf-5f77-4190-bd2e-4a81c7410feb",
   "metadata": {},
   "outputs": [],
   "source": [
    "# Model parameters\n",
    "S_MAX = 4              # S_{max}, env sugar maximum level\n",
    "S_ALPHA = 1            # /alpha, sugar growback rate\n",
    "\n",
    "# Parameters for initialisation of the model (see `Creation of Initial Population Data`)\n",
    "H_MIN = 20             # H_{min}, hotspot minimum distance\n",
    "W_MIN = 5              # W_{min}, agent wealth minimum\n",
    "W_MAX = 25             # W_{max}, agent welath maximum\n",
    "M_MIN = 1              # M_{min}, agent metabolism minimum\n",
    "M_MAX = 4              # M_{max}, agent metabolism maximum\n",
    "P_OCCUPATION = 0.17    # /rho, probability of sugarscape agent occupation\n",
    "\n",
    "SIMULATION_STEPS = 100 # number of simulation steps"
   ]
  },
  {
   "cell_type": "markdown",
   "id": "7d2484a5-3fc8-4a36-b858-4133fbfaefda",
   "metadata": {},
   "source": [
    "*Note: Some additional parameters and values are defined in [sugarscape_common.py](sugarscape_common.py). These include the environment width and height and some constants used to define status of an agent. I.e. 'unoccupied', 'occupied'.*"
   ]
  },
  {
   "cell_type": "markdown",
   "id": "71081e63-6148-4055-9a18-da7e241b4e74",
   "metadata": {},
   "source": [
    "# Creating a model"
   ]
  },
  {
   "cell_type": "markdown",
   "id": "e5c16efa-7c7b-462e-a21f-5cc2cb578852",
   "metadata": {},
   "source": [
    "A FLAME GPU 2 model consists of: \n",
    "\n",
    "1. An environment which holds global information related to the simulation such as constant variables.\n",
    "2. A description of any messages which represent information to communicated between agents.\n",
    "3. A description of agents which includes any state variables that they have and any functions which they can execute.\n",
    "4. A control flow which describes the execution order of any functions within a single iteration of the simulation.\n",
    "5. Initial population data and a simulation object which is used to instantiated to simulation object. \n",
    "\n",
    "In the python build of FLAME GPU 2, all of these model elements are described through the python interface. A `ModelDescription` object acts as a parent/container for the various other components which make up the model. The following sections will describe how to create each of the above components and attach them to the `ModelDescription`. Each code cell defines a particular function. By defining functions rather than running the code directly, they can be updated individually and defined out of order. These functions are then all called in the correct order later in the tutorial.\n",
    "\n",
    "The cell below creates and returns a `ModelDescription` object for the sugarscape model."
   ]
  },
  {
   "cell_type": "code",
   "execution_count": 37,
   "id": "6d6cf156-04a8-4ccd-9b5b-80b896c98add",
   "metadata": {},
   "outputs": [],
   "source": [
    "def create_model():\n",
    "    model = pyflamegpu.ModelDescription(\"sugarscape\")\n",
    "    return model"
   ]
  },
  {
   "cell_type": "markdown",
   "id": "e5c59961-561e-4107-bd48-af9ac79daf89",
   "metadata": {},
   "source": [
    "# Defining the Environment"
   ]
  },
  {
   "cell_type": "markdown",
   "id": "c34008a4-fe57-4cea-be4a-02fe3adce0c5",
   "metadata": {},
   "source": [
    "Within FLAME GPU the environment provides a mechanism to provide properties (variables) which can be accessed by all agents within a simulation. We previously defined a number of model parameters which will be used as initial values to environment properties in the cell below. It is important to define these as environment variables as Python global will not be available to agent functions which ultimately will be executed on the GPU device.\n",
    "\n",
    "The cell below defines 4 different values for the agent status. Occupied and unoccupied are obvious in their meaning. The movement requested and movement unresolved status is used within the movement submodel and is explained later in the tutorial. "
   ]
  },
  {
   "cell_type": "code",
   "execution_count": 38,
   "id": "3cb1db44-9af1-4bb5-a427-c86b2f5b7157",
   "metadata": {},
   "outputs": [],
   "source": [
    "def define_environment(model):\n",
    "    env = model.Environment()\n",
    "    env.newPropertyInt(\"sugar_growback_rate\", S_ALPHA)\n",
    "    env.newPropertyInt(\"sugar_max_capacity\", S_MAX)\n",
    "    \n",
    "    # agent status\n",
    "    env.newPropertyInt(\"agent_status_unoccupied\", sugarscape_common.AGENT_STATUS_UNOCCUPIED)\n",
    "    env.newPropertyInt(\"agent_status_occupied\", sugarscape_common.AGENT_STATUS_OCCUPIED)\n",
    "    env.newPropertyInt(\"agent_status_movement_requested\", sugarscape_common.AGENT_STATUS_MOVEMENT_REQUESTED)\n",
    "    env.newPropertyInt(\"agent_status_movement_unresolved\", sugarscape_common.AGENT_STATUS_MOVEMENT_UNRESOLVED)"
   ]
  },
  {
   "cell_type": "markdown",
   "id": "07814f5d-8f56-40ea-a186-258006134f86",
   "metadata": {},
   "source": [
    "*Note: Although a default value for each property is set above, there are a number of ways that this can be overridden when creating the simulation object later. This can be useful if instantiating multiple simulations with differing environment properties.* "
   ]
  },
  {
   "cell_type": "markdown",
   "id": "e06178d8-f6c8-4c88-8a29-5a1cbf8abd53",
   "metadata": {},
   "source": [
    "# Defining the Agents"
   ]
  },
  {
   "cell_type": "markdown",
   "id": "2760641c-53a0-4610-a9e4-0edf95ef4e53",
   "metadata": {},
   "source": [
    "A FLAME GPU model can consist of any number of agents. Our Sugarscape model requires only a single agent type that will represent a single cell of the Sugarscape model it. It therefore requires an `x` and `y` position (identifying the position within a regular 2D lattice) and variables that hold information about both Sugarscape agents and the environment cell itself.\n",
    "\n",
    "The agent definition below creates three agent functions (`metabolise`, `growback` and `move`). The `newRTCFunction` method is used to specify these alongside the `pyflamegpu.codegen` module which which has a `translate` function. The `translate` function will take a pure python agent function (the format of which is described later) and transpile (the process of converting source code from one programming language to another) it to C++. The `newRTCFunction` call indicates that it is a **R**un**T**ime **C**ompilation function which will ensure the C++ source is compiled during model initialisation. This translation from Python to C++ for compilation is a requirement of FLAME GPU which uses NVIDIA CUDA to program the GPU device. All agent functions are compiled with a FLAME GPU device API which provides the mechanisms to query agent variables, messages and the environment. If you wish to see the transpiled C++ then you can `print` the output of the `translate` function and inspect this yourself. It has a very close resemblance to the underlying Python.\n",
    "\n",
    "*Note: The definition of an agent does not actually require any specialisation in terms of what type of spatial domain an agent lives within. Agents may may exist within regular grid (as is the case of the Sugarscape model), points within continuous space, a network, or any other domain abstraction. Rather than specialisation of agents, messages are instead specialised as a mechanism for agents to communicate within specific spatial constructs. The `x` and `y` variables exist so that the agent can communicate using the `Array2D` message specialism.*\n",
    "\n",
    "The model variables are mapped to agent variables as follows;\n",
    "\n",
    "| Model Variable | Agent Variable Name | Description\n",
    "| :--- | :--- | :--- |\n",
    "| $s$ | `env_sugar_level` | Environment sugar level |\n",
    "| $m$ | `metabolism` | Metabolism |\n",
    "| $w$ | `sugar_level` | Sugar Wealth |\n",
    "|  | `env_sugar_max` | Each cell has a maximum sugar level which can be no greater than $S_{max}$"
   ]
  },
  {
   "cell_type": "code",
   "execution_count": 39,
   "id": "6a67372e-1e3b-406a-95d4-5f2457837f6f",
   "metadata": {},
   "outputs": [],
   "source": [
    "def define_agents(model):\n",
    "    agent = model.newAgent(\"agent\")\n",
    "    \n",
    "    # Generic variables\n",
    "    agent.newVariableInt(\"x\")\n",
    "    agent.newVariableInt(\"y\")\n",
    "    agent.newVariableInt(\"agent_id\")\n",
    "    agent.newVariableInt(\"status\")\n",
    "    # Sugarscape agent specific variables\n",
    "    agent.newVariableInt(\"sugar_level\")\n",
    "    agent.newVariableInt(\"metabolism\")\n",
    "    # Environment cell specific variables\n",
    "    agent.newVariableInt(\"env_sugar_level\")\n",
    "    agent.newVariableInt(\"env_max_sugar_level\")\n",
    "\n",
    "    # Metabolise, growback and move functions\n",
    "    metabolise_fn = agent.newRTCFunction(\"metabolise\", pyflamegpu.codegen.translate(metabolise))\n",
    "    growback_fn = agent.newRTCFunction(\"growback\", pyflamegpu.codegen.translate(growback))\n",
    "    move_fn = agent.newRTCFunction(\"move\", pyflamegpu.codegen.translate(move))\n",
    "\n",
    "    "
   ]
  },
  {
   "cell_type": "markdown",
   "id": "0a45c6ae-e27d-4775-81e8-c0d81ca531ca",
   "metadata": {},
   "source": [
    "# Specifying the Functional Dependencies"
   ]
  },
  {
   "cell_type": "markdown",
   "id": "bf9010b4-5531-4717-b0c9-4cbde89ab50a",
   "metadata": {},
   "source": [
    "A FLAME GPU simulation consists of the execution of a set of simulation steps. Each step has represents a single iteration of the simulation and is made up of a set of agent functions that are executed. The order of function execution creates a directed graph where functions depend on one another either;\n",
    "\n",
    "1. Directly i.e. function 'B' has a dependency on function 'A' if it expects function 'A' to have executed first, or\n",
    "2. Indirectly i.e. function 'B' has a dependency on function 'A' if function b reads a message which function A will output.\n",
    "\n",
    "We have not specified any messages yet within our model but we can specify that our functions have a set of direct dependencies. This can be done either explicitly, by specifying the layers ([see docs](https://docs.flamegpu.com/guide/defining-execution-order/layers.html)) on which function will execute or by specifying the actual dependencies ([see docs](https://docs.flamegpu.com/guide/defining-execution-order/dependency-graph.html)). The later is preferable as greater care must be taken in the specification of layers to ensure that dependencies are respected.\n",
    "\n",
    "The cell below defines a function to specify the functional dependencies. It also adds an execution root, which can be an agent function or in this case a submodel (described later) which is used to provide conflict free movement of the agents. The call to the `generateLayers` function freezes the dependencies and generates a graph of execution layers which respects the dependencies."
   ]
  },
  {
   "cell_type": "code",
   "execution_count": 40,
   "id": "269e7235-b633-48b3-a0a5-b01af7a3a99a",
   "metadata": {},
   "outputs": [],
   "source": [
    "def define_dependencies(model, movement_submodel):\n",
    "    \"\"\"\n",
    "    Control Flow\n",
    "    \"\"\"\n",
    "    agent = model.Agent(\"agent\")\n",
    "    move_fn = agent.Function(\"move\")\n",
    "    growback_fn = agent.Function(\"growback\")\n",
    "    metabolise_fn = agent.Function(\"metabolise\")\n",
    "\n",
    "    # specify the dependencies\n",
    "    model.addExecutionRoot(movement_submodel)\n",
    "    move_fn.dependsOn(growback_fn)\n",
    "    growback_fn.dependsOn(metabolise_fn)\n",
    "    metabolise_fn.dependsOn(movement_submodel)\n",
    "    model.generateLayers()\n",
    "    "
   ]
  },
  {
   "cell_type": "markdown",
   "id": "9c43d3a4-3087-4c55-ad64-ca500f08c0b5",
   "metadata": {},
   "source": [
    "# Defining Agent Functions"
   ]
  },
  {
   "cell_type": "markdown",
   "id": "bc696b0a-a962-4c67-ac1b-a8d3b7e55bd3",
   "metadata": {},
   "source": [
    "The Python agent functions referred to in our definition of the agent can now be specified. A limited subset of Python is supported which is restricted to Python features that can be easily transpiled to a C++ equivalent at runtime for compilation. For example Python functionality like generator expressions, arrays, dictionaries, etc. which do not have an obvious C++ equivalent are not permitted and will raise an exception. The subset of supported Python is referred to as *agent Python*. All agent Python functions are required to have a function decorator (i.e. `@pyflamegpu.agent_function`). A brief summary of agent Python functions is provided in the table below.\n",
    "\n",
    "| Action | Code format | Notes\n",
    "| :--- | :--- | :--- |\n",
    "| Write a comment | `# This will be a comment` | |\n",
    "| Declare a local variable | `variable_name = value` | *Variables do not require a type however if a specific type is required this can be inferred i.e.* `variable_name = float(value)`\n",
    "| Read an agent variable | `variable_name = pyflamegpu.getVariableInt(\"variable_name\")` | *Int can be replaced by other types and should match the type used when defining the agent variable in the AgentDescription.* |\n",
    "| Get the value of an environment property of type Int | `pyflamegpy.environment.getPropertyInt(\"property_name\")` | *Int can be replaced by other types.* |\n",
    "| Iterate & access input messages | `for msg in message_in :` <br>&nbsp;&nbsp; `# Each message is now accessible inside this loop via msg` | `message_in.wrap(args...)` *can be used to proivide message wrapping. See the [docs](https://docs.flamegpu.com/guide/agent-functions/agent-communication.html#reading-messages) for more information.* |\n",
    "| Read an input message variable value | `msg.getVariableInt(\"variable_name\");` | *Must be called within a message loop. Int can be replaced by other types.*|\n",
    "| Set an output message variable value | `pyflamegpu.message_out.setVariableInt(\"variable_name\", value_to_set_variable_to)` | *Function definition must have specified a message output. Int can be replaced by other types.* |\n",
    "| Generate a random float in the range [0,1) | `pyflamegpu.random.uniformFloat()` | *Other types of random distributions are described in the [docs].*(https://docs.flamegpu.com/guide/agent-functions/random-numbers.html).|\n",
    "| Function leaves agent alive | `return pyflamegpu.ALIVE` | |\n",
    "| Function kills agent | `return pyflamegpu.DEAD` | |\n",
    "\n",
    "The cell below defines the three agent functions. The `metabolise` and `growback` function are incomplete but can be left as is for now. The move function does not actually move any Sugarscape agents but sets their intention to move by changing the `status` variable to `agent_status_movement_unresolved`. The actual movement and communication via messaging will take place within the movement submodel."
   ]
  },
  {
   "cell_type": "code",
   "execution_count": 41,
   "id": "78aa6ccc-e534-46db-b70d-be5532773ef6",
   "metadata": {},
   "outputs": [],
   "source": [
    "@pyflamegpu.agent_function\n",
    "def metabolise(message_in: pyflamegpu.MessageNone, message_out: pyflamegpu.MessageNone):\n",
    "    return pyflamegpu.ALIVE\n",
    "    \n",
    "\n",
    "@pyflamegpu.agent_function\n",
    "def growback(message_in: pyflamegpu.MessageNone, message_out: pyflamegpu.MessageNone):\n",
    "    return pyflamegpu.ALIVE\n",
    "\n",
    "@pyflamegpu.agent_function\n",
    "def move(message_in: pyflamegpu.MessageNone, message_out: pyflamegpu.MessageNone):\n",
    "    status = pyflamegpu.getVariableInt(\"status\");\n",
    "        \n",
    "    # set all active agents to unresolved as they may now want to move\n",
    "    if (status == pyflamegpu.environment.getPropertyInt(\"agent_status_occupied\")) :\n",
    "        status = pyflamegpu.environment.getPropertyInt(\"agent_status_movement_unresolved\")\n",
    "\n",
    "    pyflamegpu.setVariableInt(\"status\", status);\n",
    "\n",
    "    return pyflamegpu.ALIVE"
   ]
  },
  {
   "cell_type": "markdown",
   "id": "c77de09a-e249-43ea-ba62-ba9a1c16276a",
   "metadata": {},
   "source": [
    "# Creation of Initial Population Data"
   ]
  },
  {
   "cell_type": "markdown",
   "id": "7cd3f35f-ceb8-42af-aa91-ac8b3952ee23",
   "metadata": {},
   "source": [
    "*Note: It is not important to fully understand how this code works other than to know that it generates the initial set of agents and the initial sugar distribution.*\n",
    "\n",
    "Initialisation of the originally described Sugarscape model in an environment size of $49 \\times 49$ requires the creation of a sugar distribution that defines a topography of two peaks separated by a valley. In order to define a scalable equivalent model in which the environment size of $D \\times D$ (defined in [sugarscape_common.py](sugarscape_common.py)) can be dynamically specified, the number of sugar peaks with a uniform random position, $P$, can be determined as $\\frac{2D^{2}}{49*49}$. Peaks are not allowed to exist within an Euclidean distance of $20$ of each other within the torus environment to ensure that peaks do not exceed $S_{max}$. Each position $x$ within the environment has an initial sugar volume, $s_{x}$ influenced by position $p$ of the $P$ peaks according to the following Equation;\n",
    "\n",
    "$$s_{x} = \\sum\\limits_{i}^{P} 4 - \\left( 4 \\wedge \\lfloor{\\frac{ \\lVert p_{i} - x \\rVert}{5}}\\rfloor \\right)$$\n",
    "\n",
    "That is, that initial sugar density is a sum of the sugar distributions from each peak given some fixed boundaries where $\\wedge$ indicates the a minimum operator, ensuring that sugar value contributions from each peak are between $4$ and $0$. The maximum sugar level of each cell $x$ is fixed at $s_{x}$ ensuring that the streucture of the sugar peaks remains intact. Each cell has a probability $\\rho$ of being occupied by a Sugarscape agent during initialisation. The initial population size of sugarscape agents has an expected value of $D^2\\rho$. Each sugarscape agent has an initial $w$ drawn from a uniform random distribution with a range of $W_{min}$ and $W_{max}$ with a metabolism $m$ drawn from a uniform random distribution with a range of $M_{min}$ and $M_{max}$.\n",
    "\n",
    "The initial population of agents is created using an `AgentVector`. Individuals within the initial population are accessed by indexing into the vector and agent variables are set using the `setVariableInt` function (as all agent variables are of type Int). Model variables have the same mapping as in [Defining the Agents](#Defining-the-Agents). I.e. $s$ =`env_sugar_level`, $m$ = `metabolism`, $w$ = `sugar_level`. The variable `env_max_sugar_level` represents the maximum sugar level for the specific cell and is equal to the initial value of $s$."
   ]
  },
  {
   "cell_type": "code",
   "execution_count": 42,
   "id": "e7569fdd-28fe-43de-86c3-e9fbf2ab6bcd",
   "metadata": {},
   "outputs": [],
   "source": [
    "def initialise_population(model):\n",
    "    # Create some randomised sugar areas for the map\n",
    "    sugar_hotspots = []\n",
    "    # Calculate the number of hotspots (average denisty based on that of the original model)\n",
    "    num_hotspots = int((2 * sugarscape_common.D * sugarscape_common.D) / (49*49))\n",
    "    for i in range(num_hotspots):\n",
    "        attempts = 0\n",
    "        while True:\n",
    "            hs = [random.randint(0, sugarscape_common.D - 1), random.randint(0, sugarscape_common.D - 1)]\n",
    "            # Check if the new hotspot is at least H_MIN units away from existing ones\n",
    "            if all(math.sqrt((hx - hs[0]) ** 2 + (hy - hs[1]) ** 2) >= H_MIN for hx, hy in sugar_hotspots):\n",
    "                sugar_hotspots.append(hs)\n",
    "                break  # Valid position found, move to the next hotspot\n",
    "            # limit attemtps to create a position\n",
    "            attempts += 1\n",
    "            if attempts == 100:\n",
    "                print(f\"Warning: Maximum attempts reached creating unique location for sugar hotspot {i}.\")\n",
    "                break\n",
    "\n",
    "    # Initialize agent population\n",
    "    init_pop = pyflamegpu.AgentVector(model.Agent(\"agent\"), sugarscape_common.D * sugarscape_common.D)\n",
    "    # Create some random distributions\n",
    "    normal = random.uniform \n",
    "    agent_sugar_dist = lambda: random.randint(W_MIN, W_MAX)\n",
    "    agent_metabolism_dist = lambda: random.randint(M_MIN, M_MAX)\n",
    "    # loop to create agents / cells\n",
    "    i = 0\n",
    "    for x in range(sugarscape_common.D):\n",
    "        for y in range(sugarscape_common.D):\n",
    "            instance = init_pop[i]\n",
    "            i += 1\n",
    "            instance.setVariableInt(\"x\", x)\n",
    "            instance.setVariableInt(\"y\", y)\n",
    "            # chance of cell holding an agent\n",
    "            if normal(0, 1) < P_OCCUPATION:\n",
    "                instance.setVariableInt(\"agent_id\", i)\n",
    "                instance.setVariableInt(\"status\", sugarscape_common.AGENT_STATUS_OCCUPIED)\n",
    "                instance.setVariableInt(\"sugar_level\", agent_sugar_dist())\n",
    "                instance.setVariableInt(\"metabolism\", agent_metabolism_dist())\n",
    "            else:\n",
    "                instance.setVariableInt(\"agent_id\", -1)\n",
    "                instance.setVariableInt(\"status\", sugarscape_common.AGENT_STATUS_UNOCCUPIED)\n",
    "                instance.setVariableInt(\"sugar_level\", 0)\n",
    "                instance.setVariableInt(\"metabolism\", 0)\n",
    "    \n",
    "            # Environment-specific variable\n",
    "            env_sugar_lvl = 0\n",
    "            hotspot_core_size = 5\n",
    "    \n",
    "            for hs in sugar_hotspots:\n",
    "                hs_x, hs_y = hs  # Unpack hotspot coordinates\n",
    "                # Compute Euclidean distance to hotspot\n",
    "                hs_dist = math.sqrt((hs_x - x) ** 2 + (hs_y - y) ** 2)\n",
    "                # Compute environmental sugar level\n",
    "                env_sugar_lvl += max(0, 4 - min(4, math.floor(hs_dist / hotspot_core_size)))\n",
    "            env_sugar_lvl = min(env_sugar_lvl, S_MAX)\n",
    "    \n",
    "            # Set environmental sugar variables\n",
    "            instance.setVariableInt(\"env_sugar_level\", env_sugar_lvl)\n",
    "            instance.setVariableInt(\"env_max_sugar_level\", env_sugar_lvl) # All cells begin at their local max sugar\n",
    "    \n",
    "    return init_pop"
   ]
  },
  {
   "cell_type": "markdown",
   "id": "2517a5cc-28ef-4609-87c9-98397a07d35f",
   "metadata": {},
   "source": [
    "# Create the Simulation"
   ]
  },
  {
   "cell_type": "markdown",
   "id": "4c478fb2-1777-4438-9cef-52bbd98927e7",
   "metadata": {},
   "source": [
    "We have now defined the model, environment, agents, the functional dependencies and the initial population data for out model. The last step is to create a simulation object that will instantiate out model with the initial population data ready for execution. Before we do this we will need to add a mechanism for agents to move within our model. FLAME GPU provides an abstraction called a submodel (a model within a model) and a submodel to provide movement of the Sugarscape agents is provided in [movement_submodel.py](movement_submodel.py). This is added to our Sugarscape model by calling the `add_movement_submodel` function. The `define_dependancies` function already inserted the sub model into the function execution graph.\n",
    "\n",
    "The cell below creates the Cuda simulation ready for execution."
   ]
  },
  {
   "cell_type": "code",
   "execution_count": 43,
   "id": "31e1079f-baba-4f60-87a5-4db47eddb3ff",
   "metadata": {},
   "outputs": [],
   "source": [
    "def initialise_simulation():\n",
    "    global model    # make the model global so it can be accessed by other cells\n",
    "\n",
    "    # create the model and define the environmet, agents and dependancies\n",
    "    model = create_model()\n",
    "    define_environment(model)\n",
    "    define_agents(model)\n",
    "    submodel = movement_submodel.add_movement_submodel(model)  # Create a movement submodel to handle agent communication, negotiation and movement\n",
    "    define_dependencies(model, submodel)\n",
    "    \n",
    "    # create an initial population of agents\n",
    "    init_pop = initialise_population(model)\n",
    "\n",
    "    # create a CUDA simulation and set the initial data\n",
    "    cuda_simulation = pyflamegpu.CUDASimulation(model)\n",
    "    cuda_simulation.setPopulationData(init_pop);\n",
    "    \n",
    "    return cuda_simulation\n"
   ]
  },
  {
   "cell_type": "markdown",
   "id": "ab3567cf-ae1d-440f-b7c4-3c01856c7042",
   "metadata": {
    "jp-MarkdownHeadingCollapsed": true
   },
   "source": [
    "## Explaining the Movement Submodel"
   ]
  },
  {
   "cell_type": "markdown",
   "id": "4d71baef-2534-414c-a385-c85dd20ebff6",
   "metadata": {},
   "source": [
    "*Note: If you do not wish to understand the movement submodel and why it is required this section can be skipped.*\n",
    "\n",
    "Submodels within FLAME GPU exist as a mechanism to resolve conflicts which may naturally occur within the modelling abstraction. Within the Sugarscape model, conflict occurs as a result of agent movement but can occur within models for a wide range of reasons where there is any form of competition. (e.g. in chemical bonding, enforcing of mechanical constraints, etc). Consider within the Sugarscape model an agent function that attempts to allow the agents to move. First it would have to read a message from any neighbouring cells to understand the sugar distribution within the environment and then the agent would attempt to move to areas of high sugar concentration. Within a parallel modelling framework like FLAME GPU it is highly likely that multiple agents attempting to move simultaneously would result in agents occupying the same space, competing for sugar within the same cell. The original implementation of the model avoids this conflict as each agent executes its behaviour in serial with the order randomised for fairness. Whilst  serialisation is effective it is very slow.\n",
    "\n",
    "The submodel approach allows a process to occur in which Sugarscape agents will negotiate to move fairly without collisions by respecting a randomly assigned priority. Each iteration of the submodel will allow agents to move. Within the model a function is used to output the cell status, agents then bid to move advertising their priority, the cells consider the requests and respond to confirm movement of the agent with highest priority. The highest priority agent receives this response and can ensure it has left the cell it currently occupies. If an agent is unable to move due to a higher priority agent taking precedence, then the submodel will run again, until either all agents have had the opportunity to move or the maximum number of movement attempts is exceeded (there is a upper bound of 9 attempts which is rarely reached but represents an agent attempting to move to every neighbouring cell). \n",
    "\n",
    "An example of agent collision is shown on the right hand side of the figure below using a simplistic two agent example. In this case, each agent initially requests to move to the same cell location. The cell responds by selecting the agent with highest priority therefore  allowing a single agent to move in the first iteration of the model. An exit condition only allows the main simulation to resume once all agents are *resolved* and as such a second iteration of the sub-model is required for the second agent to find a collision free location. The function dependency graph of the submodel showing its dependency to the `metabolise` function is shown on the left of the image below (the `growback` and `move` functions from the main model are omitted).\n",
    "\n",
    "![Sugarscape submodel](.\\images\\submodel.png)\n",
    "\n",
    "The submodel code is available within the [movement_submodel.py](movement_submodel.py) file. the model format follows that described in this tutorial with the addition of messages and message input and output within the agent functions.\n"
   ]
  },
  {
   "cell_type": "markdown",
   "id": "564cd89a-364a-4537-ae4f-e3e2b1977edf",
   "metadata": {},
   "source": [
    "# Running the Simulation"
   ]
  },
  {
   "cell_type": "markdown",
   "id": "0097c6c9-509e-42f8-83e6-4b8fe8d62db9",
   "metadata": {},
   "source": [
    "In order to run the simulation will call the `step` function a number of times. Each call will execute a single iteration of the main Sugarscape model (the sub model may run many times per iteration until the exit condition is met). The `exportData` function can be used prior to simulation and after each step to output the complete state of the simulation including all agent variables. Whilst this is expense in terms of IO it will allow us to visualise the data or perform further analysis.\n",
    "\n",
    "In this tutorial we perform a single simulation, FLAME GPU also supports ensembles of simulations which will allow multiple simulations to execute concurrently, potentially using multiple GPU devices (including over MPI). This can be very effective for parameter sweeps or optimisation.\n",
    "\n",
    "The cell below defines a function to execute and export the simulation data. It also calls this function."
   ]
  },
  {
   "cell_type": "code",
   "execution_count": 44,
   "id": "07d66431-ea27-42ab-a0ad-1f74258b0891",
   "metadata": {},
   "outputs": [
    {
     "name": "stdout",
     "output_type": "stream",
     "text": [
      "Simulation complete\n"
     ]
    }
   ],
   "source": [
    "def execute_simulation():\n",
    "    # delete previous data\n",
    "    !rm -rf data\n",
    "    !mkdir data\n",
    "    \n",
    "    cuda_simulation = initialise_simulation() \n",
    "    # Log the initial state\n",
    "    cuda_simulation.exportData(f\"data/0.json\")\n",
    "    # simulate for number of steps and log the complete state\n",
    "    for i in range(SIMULATION_STEPS):\n",
    "        cuda_simulation.step()\n",
    "        cuda_simulation.exportData(f\"data/{i+1}.json\")\n",
    "    print(\"Simulation complete\")  \n",
    "\n",
    "execute_simulation()    "
   ]
  },
  {
   "cell_type": "markdown",
   "id": "20a00658-fe00-460c-bf1d-889be8694405",
   "metadata": {},
   "source": [
    "# Visualising the Output"
   ]
  },
  {
   "cell_type": "markdown",
   "id": "d609610f-042d-4abd-8cc4-3f59397fb177",
   "metadata": {},
   "source": [
    "The Python module `sugarscape_visualiser` has some helpful function to help in visualising the simulation output using MatplotLib. You can call the following;\n",
    "\n",
    "1. `sugarscape_visualiser.plot_state(step_no)` - This will plot a single state of the sugarscape model.\n",
    "2. `sugarscape_visualiser.display_states(simulation_steps)` - This will create an interactive plot where a slider control the step number so that the model outputs at each step can be observed.\n",
    "3. `sugarscape_visualiser.animate_states(simulation_steps)` - This will create an animation from step 0 to `simulation_steps` to observe the simulations progression.\n",
    "\n",
    "Try changing the value of `visualisation_mode` in the cell below to see the different visualisation options.\n",
    "\n",
    "*Note: There are much more efficient mechanisms for [visualisation](https://docs.flamegpu.com/guide/visualisation/index.html) of FLAME GPU simulation when working with a local GPU (i.e. a GPU on your own machine rather than in a Jupyter notebook). Additionally FLAME GPU has many options for [logging](https://docs.flamegpu.com/guide/visualisation/index.html) agent state variables using reduction operators rather than exporting the entire simulation state. Logging will perform the reductions on the GPU avoiding large data IO costs.*"
   ]
  },
  {
   "cell_type": "code",
   "execution_count": 45,
   "id": "fd97bd3a-1f89-484e-bed5-e3df76b34e09",
   "metadata": {},
   "outputs": [
    {
     "data": {
      "application/vnd.jupyter.widget-view+json": {
       "model_id": "c67fd6ab0f5943a0b1bba8972cbd23d2",
       "version_major": 2,
       "version_minor": 0
      },
      "image/png": "[encoded data removed]",
      "text/html": [
       "\n",
       "            <div style=\"display: inline-block;\">\n",
       "                <div class=\"jupyter-widgets widget-label\" style=\"text-align: center;\">\n",
       "                    Figure\n",
       "                </div>\n",
       "                <img src='data:image/png;base64,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' width=640.0/>\n",
       "            </div>\n",
       "        "
      ],
      "text/plain": [
       "Canvas(toolbar=Toolbar(toolitems=[('Home', 'Reset original view', 'home', 'home'), ('Back', 'Back to previous …"
      ]
     },
     "metadata": {},
     "output_type": "display_data"
    }
   ],
   "source": [
    "def visualise_model(visualisation_mode = 'display'): # valid visualisation_mode inputs are 'display', 'plot', 'animate'\n",
    "    if visualisation_mode == 'plot':\n",
    "        sugarscape_visualiser.plot_state(0)\n",
    "        sugarscape_visualiser.plot_state(SIMULATION_STEPS)\n",
    "    elif visualisation_mode == 'animate':\n",
    "        sugarscape_visualiser.animate_states(SIMULATION_STEPS)\n",
    "    elif visualisation_mode == 'display':\n",
    "        sugarscape_visualiser.display_states(SIMULATION_STEPS)\n",
    "\n",
    "visualise_model()"
   ]
  },
  {
   "cell_type": "markdown",
   "id": "173572af-0d2c-40a4-8a26-917270994035",
   "metadata": {},
   "source": [
    "The simulation should progress by allowing each agent to move to a favourable position. As there is no behaviour yet specified for migration and growback the Sugarscape agents will not change their sugar wealth and the environmental sugar will remain constant. The behaviour observed should show some migration of agents to higher concentrations of sugar. E.g. Where a Sugarscape agent has an opportunity to pass a boundary of increased environmental sugar level it will do so. As such the sugar peaks will become increasingly populated by agents which will increase to competition of movement."
   ]
  },
  {
   "cell_type": "markdown",
   "id": "45c30a41-8947-4881-ae95-29eeea0c7d7c",
   "metadata": {},
   "source": [
    "# Tutorial Exercise 1"
   ]
  },
  {
   "cell_type": "markdown",
   "id": "89af6ef0-b588-489a-8aee-ce0484db993a",
   "metadata": {},
   "source": [
    "## 1.1 Define the Behaviour of the Metabolise Function"
   ]
  },
  {
   "cell_type": "markdown",
   "id": "eb8cc745-e285-479f-9577-252e490f161c",
   "metadata": {},
   "source": [
    "For our first tutorial exercise we will complete the behaviour of the metabolise function in the cell below.\n",
    "\n",
    "1. Create a local variable for agents sugar level, environment sugar level, the metabolism and the agents status. Get these values from the corresponding agent variables `sugar_level`, `env_sugar_level`, `metabolism` and `status` respectively.\n",
    "2. Perform a check to see if the agent status is either `\"agent_status_occupied\"`  and if so perform the following tasks\n",
    "    * 2.1. Check the environment sugar level. If it is greater than zero then the agent should consume the sugar at the location. *Hint: increase the local variable for agent sugar level and set the local variable for the environment sugar level to 0.*\n",
    "    * 2.2. Metabolise sugar. *Hint: reduce the local variable for agent sugar level by the metabolism value*.\n",
    "    * 2.3 If the agents sugar level is below zero then the agent should die and the agents state variables should be updated to reflect this. *Hint: the status should be set to `\"agent_status_unoccupied\"`, the `agent_id` should be set to `-1` and the metabolism value set to `0`.\n",
    "3. The agent sugar level and environment sugar level should be set from the local variables.\n",
    "\n",
    "Use the cell below to modify the metabolise function, run the simulation and visualise the output. You can simply re-run this cell if you make changes. If you produce an invalid agent function then the output will produce a runtime error with the runtime compilation error reported in the output. \n",
    "\n",
    "*Note: Any compilation errors will be from the transpiled C++ rather than the pure Python but it will give a fairly clear indication of which part of the agent function is incorrect*.\n",
    "\n",
    "*Note 2: Running this cell will be slow as the agent function must be runtime compiled. Each time an agent function changes the compilation will need to take place again. If the agent functions are not changed then they will be cached and you will notice an improvement in the runtime.* "
   ]
  },
  {
   "cell_type": "code",
   "execution_count": null,
   "id": "bb495d1a-72f5-4333-92d7-3b6db8758823",
   "metadata": {},
   "outputs": [],
   "source": [
    "@pyflamegpu.agent_function\n",
    "def metabolise(message_in: pyflamegpu.MessageNone, message_out: pyflamegpu.MessageNone):\n",
    "\n",
    "    # TODO: Add your code here\n",
    "    \n",
    "    return pyflamegpu.ALIVE\n",
    "\n",
    "\n",
    "execute_simulation() \n",
    "visualise_model()"
   ]
  },
  {
   "cell_type": "markdown",
   "id": "047f344d-fcaf-476d-960f-75fd6010b29c",
   "metadata": {},
   "source": [
    "If you have completed the exercise correctly you should observe the agents migrating as they did before, however, now they will consume the sugar within the environment until it has run out. Once they have consumed all the sugar the agents will begin to die."
   ]
  },
  {
   "cell_type": "markdown",
   "id": "6d967cb5-c077-4336-86a2-b0ecac493000",
   "metadata": {
    "jp-MarkdownHeadingCollapsed": true
   },
   "source": [
    "### Exercise 1.1 Solution"
   ]
  },
  {
   "cell_type": "markdown",
   "id": "a860f729-5333-4c8b-9c65-cc7206ddff20",
   "metadata": {},
   "source": [
    "The code below provides the solution for exercise 1.1."
   ]
  },
  {
   "cell_type": "code",
   "execution_count": null,
   "id": "9316eb98-8840-485a-941d-7f2198714d9a",
   "metadata": {},
   "outputs": [],
   "source": [
    "@pyflamegpu.agent_function\n",
    "def metabolise(message_in: pyflamegpu.MessageNone, message_out: pyflamegpu.MessageNone):\n",
    "    agent_sugar_level = pyflamegpu.getVariableInt(\"sugar_level\")\n",
    "    env_sugar_level = pyflamegpu.getVariableInt(\"env_sugar_level\")\n",
    "    status = pyflamegpu.getVariableInt(\"status\")\n",
    "    metabolism = pyflamegpu.getVariableInt(\"metabolism\")\n",
    "\n",
    "    # metabolise if occupied\n",
    "    if (status == pyflamegpu.environment.getPropertyInt(\"agent_status_occupied\")):\n",
    "        \n",
    "        # store any sugar present in the cell\n",
    "        if (env_sugar_level > 0) :\n",
    "            agent_sugar_level += env_sugar_level\n",
    "            # Occupied cells are marked as -1 sugar.\n",
    "            env_sugar_level = 0;\n",
    "\n",
    "        # metabolise\n",
    "        agent_sugar_level -= metabolism\n",
    "\n",
    "        # check if agent dies\n",
    "        if (agent_sugar_level <= 0) :\n",
    "            status = pyflamegpu.environment.getPropertyInt(\"agent_status_unoccupied\");\n",
    "            # env_sugar_level = 0;\n",
    "            pyflamegpu.setVariableInt(\"agent_id\", -1);\n",
    "            pyflamegpu.setVariableInt(\"metabolism\", 0);\n",
    "            pyflamegpu.setVariableInt(\"status\", status);\n",
    "\n",
    "    pyflamegpu.setVariableInt(\"sugar_level\", agent_sugar_level);\n",
    "    pyflamegpu.setVariableInt(\"env_sugar_level\", env_sugar_level);\n",
    "\n",
    "    return pyflamegpu.ALIVE\n",
    "\n",
    "# run the model and visualise the output\n",
    "execute_simulation() \n",
    "visualise_model()\n"
   ]
  },
  {
   "cell_type": "markdown",
   "id": "4ba9fc3f-0b74-4933-a3ff-e3b34cbbdbaa",
   "metadata": {},
   "source": [
    "## 1.2 Define the Behaviour of the Growback Function"
   ]
  },
  {
   "cell_type": "markdown",
   "id": "6dac036a-206a-43ae-8d85-2e5f26431cca",
   "metadata": {},
   "source": [
    "In order to extend our model we will now implement the behaviour of the `growback` function for sugar within the environment. In the cell below extend the `growback` function by adding the following behaviour.\n",
    "\n",
    "1. Create a local variable for environment sugar level, the environment maximum sugar level and the agents status. Get these values from the corresponding agent variables `env_sugar_level`, `env_max_sugar_level` and `status` respectively.\n",
    "2. Perform a check to see if the agent status is either `\"agent_status_unoccupied\"`  and if so perform the following tasks\n",
    "    * 2.1. Increase the local variable for the environment sugar level by the sugar growback rate. *Hint: The growback rate is an environment property called `sugar_growback_rate`*\n",
    "    * 2.2 If the local variable for the environment sugar level exceeds the maximum value permitted for this cell then limit it to the maximum value.\n",
    "3. The agents environment sugar level should be set from the local variable.\n",
    "\n",
    "You can re-run this cell if you make changes. If you produce an invalid agent function then the output will produce a runtime error with the runtime compilation error reported in the output. \n"
   ]
  },
  {
   "cell_type": "code",
   "execution_count": null,
   "id": "3505893c-c8ca-4970-b9e4-6ec98bbe4328",
   "metadata": {},
   "outputs": [],
   "source": [
    "@pyflamegpu.agent_function\n",
    "def growback(message_in: pyflamegpu.MessageNone, message_out: pyflamegpu.MessageNone):\n",
    "\n",
    "    # TODO: Add your code here\n",
    "\n",
    "    return pyflamegpu.ALIVE\n",
    "\n",
    "# run the model and visualise the output\n",
    "execute_simulation() \n",
    "visualise_model()"
   ]
  },
  {
   "cell_type": "markdown",
   "id": "e5672553-5bb5-42b5-bbb3-4507ffe8718c",
   "metadata": {},
   "source": [
    "If you have completed the exercise correctly then the environment should grown back and the agents should migrate and consume sugar. Over time this will each an equilibrium where agents continue to consume sugar as it grows back within the environment."
   ]
  },
  {
   "cell_type": "markdown",
   "id": "3cb7afeb-88ad-4a58-93b6-f6a48eafcf90",
   "metadata": {
    "jp-MarkdownHeadingCollapsed": true
   },
   "source": [
    "### Exercise 1.2 Solution"
   ]
  },
  {
   "cell_type": "markdown",
   "id": "c95877dd-1269-44c2-bcc2-a2704433b3e2",
   "metadata": {},
   "source": [
    "The code below provides the solution for exercise 1.1."
   ]
  },
  {
   "cell_type": "code",
   "execution_count": null,
   "id": "73bf8872-96ae-43bf-af0c-682950fdb67e",
   "metadata": {},
   "outputs": [],
   "source": [
    "@pyflamegpu.agent_function\n",
    "def growback(message_in: pyflamegpu.MessageNone, message_out: pyflamegpu.MessageNone):\n",
    "    env_sugar_level = pyflamegpu.getVariableInt(\"env_sugar_level\");\n",
    "    status = pyflamegpu.getVariableInt(\"status\");\n",
    "    env_max_sugar_level = pyflamegpu.getVariableInt(\"env_max_sugar_level\");\n",
    "    \n",
    "    # growback if unoccupied\n",
    "    if (status == pyflamegpu.environment.getPropertyInt(\"agent_status_unoccupied\")) :\n",
    "        env_sugar_level += pyflamegpu.environment.getPropertyInt(\"sugar_growback_rate\")\n",
    "        if (env_sugar_level > env_max_sugar_level) :\n",
    "            env_sugar_level = env_max_sugar_level\n",
    "            \n",
    "\n",
    "    pyflamegpu.setVariableInt(\"env_sugar_level\", env_sugar_level);\n",
    "\n",
    "    return pyflamegpu.ALIVE\n",
    "\n",
    "# run the model and visualise the output\n",
    "execute_simulation() \n",
    "visualise_model()"
   ]
  },
  {
   "cell_type": "markdown",
   "id": "b26a1013-6b3e-48ec-a4ee-8f23d2b17662",
   "metadata": {},
   "source": [
    "# Tutorial Exercise 2"
   ]
  },
  {
   "cell_type": "markdown",
   "id": "d423f5cc-e300-4806-a4d2-d1c070e47a4b",
   "metadata": {},
   "source": [
    "You now have a complete Sugarscape model which demonstrates migration with continuous growback. From here there are many options to extend the model which are left as a user exercise. For example you could (with indicator of difficulty);\n",
    "\n",
    "1) Modify the model parameters to observe the effects on the emergent behaviour of the population. (Easy)\n",
    "2) Add [logging](https://docs.flamegpu.com/guide/visualisation/index.html) to the model to create plots of the Sugarscape agent population. (Med)\n",
    "3) Create an [ensemble of simulations](https://docs.flamegpu.com/guide/running-multiple-simulations/index.html) and plot (rather than visualise) how varying a model paramter impacts the emergent behaviour. E.g. population size or sugar wealth. (Hard)\n",
    "4) Add reproduction behaviour to the model. This can be achieved by;\n",
    "    * Adding a gender and age (in iterations) to the agents\n",
    "    * Creating a reproduction rule where female agents within some age limit will select the highest priority male to create an offspring which will be born with half the sugar from each parent. If there is a collision for the birth location the highest priority female wins. (Hard)\n",
    "5) Add complex reproduction behaviour to the model where a submodel is used to ensure that females can select a free cell for offspring in the case of competition. (Very Hard)\n",
    "\n",
    "Alternatively you could add other forms of behaviour such as disease propagation (i.e. A simple SIR type model) to the mobile agents."
   ]
  },
  {
   "cell_type": "markdown",
   "id": "8fa9bc48-ac62-43c4-a303-8858560dc004",
   "metadata": {},
   "source": []
  }
 ],
 "metadata": {
  "kernelspec": {
   "display_name": "Python 3 (ipykernel)",
   "language": "python",
   "name": "python3"
  },
  "language_info": {
   "codemirror_mode": {
    "name": "ipython",
    "version": 3
   },
   "file_extension": ".py",
   "mimetype": "text/x-python",
   "name": "python",
   "nbconvert_exporter": "python",
   "pygments_lexer": "ipython3",
   "version": "3.12.9"
  }
 },
 "nbformat": 4,
 "nbformat_minor": 5
}
