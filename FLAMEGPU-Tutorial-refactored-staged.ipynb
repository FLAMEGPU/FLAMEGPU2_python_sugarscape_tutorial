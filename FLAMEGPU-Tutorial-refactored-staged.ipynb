{
 "cells": [
  {
   "cell_type": "markdown",
   "id": "56850973-2685-4f12-853d-e0e0a68c510e",
   "metadata": {},
   "source": [
    "# Welcome to the FLAME GPU Sugarscape Tutorial"
   ]
  },
  {
   "cell_type": "markdown",
   "id": "7961c5d7-505f-47c4-a19b-b909f822e696",
   "metadata": {},
   "source": [
    "This is a tutorial for FLAME GPU. An open-source piece of software for the simulation of complex systems. It is domain-independent and can be used for any simulation that uses the idea of agent-based modelling. The agent-based modelling approach of describing individual behaviours and observing the emergent outputs enables FLAME GPU to be used for a wide range of examples such as flocking, cellular biology, and transportation. This tutorial focuses on the classical Sugascape model.\n",
    "\n",
    "The purpose of the tutorial is to introduce the software and the modelling abstraction (API). The software aims to hide the underlying complexities of the GPU such as data structures and even parallelism. That said their are important considerations when moving from a serial modelling methodology to a parallel one which are presented and explained during this exercise.\n",
    "\n",
    "FLAME GPU is developed in C++ but has a Python front end. This tutorial uses Python to define both the model description and the agent functions. \n",
    "\n",
    "## Background Information on Jupyter\n",
    "\n",
    "For the purpose of this tutorial, the Jupyter notebook has been configured to work with FLAME GPU 2. The Jupyter notebook is a web based environment for interactive computing. It is capable of running code in a wide variety of programming languages. The notebook consists of cells which can be of type code or markdown (by default, new cells are created as code cells). You can execute the content of code cells by clicking the Run button. Cells which are actively running code will show a '*' symbol (or 'Play' icon in Colab) and cells which have completed will show a number indicating the position in which the cell was execute (or a green tick in Colab).\n",
    "\n",
    "The notebook will guide you through the various commands required to run and edit a FLAME GPU 2 model using the python interface.\n",
    "\n",
    "### Before Beginning\n",
    "\n",
    "If using Google Colab, please ensure you have this notebook enabled with GPU before running (Runtime->Change runtime type). If you are not using Google Colab you can ignore this instruction.\n",
    "\n",
    "### Running your first code cell\n",
    "\n",
    "The cell below is a simple example of a code cell. Clicking on the play button which appears when hovering over the cell with the mouse will run the code and you should see \"Hello!\" displayed beneath the code cell.\n",
    "\n",
    "### Running on Windows\n",
    "\n",
    "There are some known limitations when running on Windows. E.g. Any errors during compilation of agent functions will be directed to the console which launched the Jupyter notebook rather than displayed in the notebook itself. See 'release notes' in the tutorial README.md.  "
   ]
  },
  {
   "cell_type": "code",
   "execution_count": 167,
   "id": "3bb4085d-77ae-40bc-972d-08c44eb8fa95",
   "metadata": {},
   "outputs": [
    {
     "name": "stdout",
     "output_type": "stream",
     "text": [
      "Hello!\n"
     ]
    }
   ],
   "source": [
    "print(\"Hello!\")"
   ]
  },
  {
   "cell_type": "markdown",
   "id": "3c9f419e-831b-413a-bb93-82c40fbf2620",
   "metadata": {},
   "source": [
    "# Installation and Importing of FLAME GPU"
   ]
  },
  {
   "cell_type": "markdown",
   "id": "f1e8aee4-3d93-4bf2-ac23-69ece981ac15",
   "metadata": {},
   "source": [
    "The FLAME GPU python library can be installed through pip. This installs a binary release of the FLAME GPU 2 library. Run the cell below to install the FLAME GPU 2 library. If you are on a system where this has been pre-installed then the library will simply be imported."
   ]
  },
  {
   "cell_type": "code",
   "execution_count": 168,
   "id": "b7777ab4-b066-4455-b4c0-65690bf5540d",
   "metadata": {},
   "outputs": [
    {
     "data": {
      "text/plain": [
       "<module 'sugarscape_visualiser' from 'D:\\\\Code\\\\pyflamegpu-tutorial\\\\sugarscape_visualiser.py'>"
      ]
     },
     "execution_count": 168,
     "metadata": {},
     "output_type": "execute_result"
    }
   ],
   "source": [
    "# check if pyflamegpu is installed and if not install it\n",
    "import importlib.util\n",
    "if importlib.util.find_spec('pyflamegpu') is None:\n",
    "    import sys\n",
    "    !{sys.executable} -m pip install --extra-index-url https://whl.flamegpu.com/whl/cuda120/ pyflamegpu==2.0.0rc2 # type: ignore\n",
    "\n",
    "# Import pyflamegpu and some other libraries we will use in the tutorial\n",
    "import pyflamegpu\n",
    "import pyflamegpu.codegen\n",
    "import sys, random, math\n",
    "import matplotlib.pyplot as plt\n",
    "import importlib\n",
    "\n",
    "#set matplotlib backend to widget for some advanced plotting tools\n",
    "%matplotlib widget \n",
    "\n",
    "# import \n",
    "import sugarscape_common\n",
    "import movement_submodel\n",
    "import sugarscape_visualiser\n",
    "\n",
    "# reload local modules\n",
    "importlib.reload(sugarscape_common)\n",
    "importlib.reload(movement_submodel)\n",
    "importlib.reload(sugarscape_visualiser)"
   ]
  },
  {
   "cell_type": "markdown",
   "id": "220b934f-f6af-44f6-8b1a-4c4d60042cdf",
   "metadata": {},
   "source": [
    "With the library installed, we need to configure the CUDA_PATH environment variable so the library can find the CUDA installation (Linux only as CUDA_PATH) will already be configured in Windows."
   ]
  },
  {
   "cell_type": "code",
   "execution_count": 169,
   "id": "14d1c600-ebb7-4db0-a9e6-494f41360436",
   "metadata": {},
   "outputs": [],
   "source": [
    "import platform\n",
    "if platform.system() == 'Linux':\n",
    "    %env CUDA_PATH=/usr/local/cuda"
   ]
  },
  {
   "cell_type": "markdown",
   "id": "cd8e2915-7a1b-4398-ac74-1e84932789ce",
   "metadata": {},
   "source": [
    "# The Sugarscape model"
   ]
  },
  {
   "cell_type": "markdown",
   "id": "4f55da75-2663-404a-9c5a-934197354587",
   "metadata": {},
   "source": [
    "## Model Description\n",
    "\n",
    "The Sugarscape model is a classical agent based model where agents compete for resources within a grid world. It was first proposed by Epstein and Axtell in their book 'Growing Artifical Societies'. The variant of the model that we will work with in this tutorial is equivalent to the model described in chapter 2 which is the same as the 'Sugarscape 2 constant growback' model within NetLogo. It is also used as a benchmark example in the paper 'FLAME GPU 2: Flexible Large Scale Agent Based Simulation on GPUs'.\n",
    "\n",
    "Within this model, $N$ Sugarscape agents occupy a 2D grid environment of `cells`. Each cell contains a level of sugar $s$ which has a maximum value of $W_{max}$. The grid wraps so as to form a torus shaped environment without boundaries. At each time-step sugar grows back within a cell at a rate of $\\alpha$. Agents have a fixed vision distance of $V$ cells in the north, south, east and west directions as well as a sugar wealth, $w$, which represents a quantity of obtained sugar. Within this tutorial all agents have a fixed vision $V=1$. \n",
    "\n",
    "The Sugarscape model is an interesting choice to learn FLAME GPU as it introduces a form of 'conflict' which is not present within the serial version. E.g. \n",
    "Within the serial implementation of this model, at each time-step the order of agents is randomised so that sequentially, each agent can choose to move to a new empty cell, with a preference for cells where there is a higher quantity of sugar available than their current location. If there are multiple potential cells which an agent could move to, then one is chosen from the candidate cells at random. Upon moving to a new cell, or if an agent remains stationary, the agent consumes all of the sugar at the agent's current location and decreases its own sugar wealth by a metabolism $m$ . If at this stage the agents sugar wealth is not greater than zero it dies and is removed from the simulation. \n",
    "\n",
    "## Model Implementation within FLAME GPU\n",
    "\n",
    "Within this tutorial we will consider both Sugarscape agents and empty environment cells as agents. This makes modelling sense, as empty cells within the environment have their own behaviour in the form of sugar growback. Each aspect of the model implementation will be explained as we progress through the tutorial. "
   ]
  },
  {
   "cell_type": "markdown",
   "id": "4bf531dc-d280-456d-ab00-c44b4714a804",
   "metadata": {},
   "source": [
    "# Model Parameters"
   ]
  },
  {
   "cell_type": "markdown",
   "id": "6d06c36e-796d-4a13-addc-bb9d9e49a959",
   "metadata": {},
   "source": [
    "Before defining the model in FLAME GPU we will first define some parameters of the model in Python. Additionally we will define some parameters which will be used later to configure distributions used when generating the initial state of the agent population."
   ]
  },
  {
   "cell_type": "code",
   "execution_count": 170,
   "id": "e0b11daf-5f77-4190-bd2e-4a81c7410feb",
   "metadata": {},
   "outputs": [],
   "source": [
    "# Model parameters\n",
    "S_MAX = 4              # S_{max}, env sugar maximum level\n",
    "S_ALPHA = 1            # /alpha, sugar growback rate\n",
    "\n",
    "# Parameters for initialisation of the model (see `Creation of Initial Population Data`)\n",
    "H_MIN = 20             # H_{min}, hotspot minimum distance\n",
    "W_MIN = 5              # W_{min}, agent wealth minimum\n",
    "W_MAX = 25             # W_{max}, agent welath maximum\n",
    "M_MIN = 1              # M_{min}, agent metabolism minimum\n",
    "M_MAX = 4              # M_{max}, agent metabolism maximum\n",
    "P_OCCUPATION = 0.17    # /rho, probability of sugarscape agent occupation\n",
    "\n",
    "SIMULATION_STEPS = 100 # number of simulation steps"
   ]
  },
  {
   "cell_type": "markdown",
   "id": "7d2484a5-3fc8-4a36-b858-4133fbfaefda",
   "metadata": {},
   "source": [
    "*Note: Some additional parameters and values are defined in [sugarscape_common.py](sugarscape_common.py). These include the environment width and height and some constants used to define status of an agent. I.e. 'unoccupied', 'occupied'.*"
   ]
  },
  {
   "cell_type": "markdown",
   "id": "71081e63-6148-4055-9a18-da7e241b4e74",
   "metadata": {},
   "source": [
    "# Creating a model"
   ]
  },
  {
   "cell_type": "markdown",
   "id": "e5c16efa-7c7b-462e-a21f-5cc2cb578852",
   "metadata": {},
   "source": [
    "A FLAME GPU 2 model consists of: \n",
    "\n",
    "1. An environment which holds global information related to the simulation such as constant variables.\n",
    "2. A description of any messages which represent information to communicated between agents.\n",
    "3. A description of agents which includes any state variables that they have and any functions which they can execute.\n",
    "4. A control flow which describes the execution order of any functions within a single iteration of the simulation.\n",
    "5. Initial population data and a simulation object which is used to instantiated to simulation object. \n",
    "\n",
    "In the python build of FLAME GPU 2, all of these model elements are described through the python interface. A `ModelDescription` object acts as a parent/container for the various other components which make up the model. The following sections will describe how to create each of the above components and attach them to the `ModelDescription`. Each code cell defines a particular function. By defining functions rather than running the code directly, they can be updated individually and defined out of order. These functions are then all called in the correct order later in the tutorial.\n",
    "\n",
    "The cell below creates and returns a `ModelDescription` object for the sugarscape model."
   ]
  },
  {
   "cell_type": "code",
   "execution_count": 171,
   "id": "6d6cf156-04a8-4ccd-9b5b-80b896c98add",
   "metadata": {},
   "outputs": [],
   "source": [
    "def create_model():\n",
    "    model = pyflamegpu.ModelDescription(\"sugarscape\")\n",
    "    return model"
   ]
  },
  {
   "cell_type": "markdown",
   "id": "e5c59961-561e-4107-bd48-af9ac79daf89",
   "metadata": {},
   "source": [
    "# Defining the Environment"
   ]
  },
  {
   "cell_type": "markdown",
   "id": "c34008a4-fe57-4cea-be4a-02fe3adce0c5",
   "metadata": {},
   "source": [
    "Within FLAME GPU the environment provides a mechanism to provide properties (variables) which can be accessed by all agents within a simulation. We previously defined a number of model parameters which will be used as initial values to environment properties in the cell below. It is important to define these as environment variables as Python global will not be available to agent functions which ultimately will be executed on the GPU device.\n",
    "\n",
    "The cell below defines 4 different values for the agent status. Occupied and unoccupied are obvious in their meaning. The movement requested and movement unresolved status is used within the movement submodel and is explained later in the tutorial. "
   ]
  },
  {
   "cell_type": "code",
   "execution_count": 172,
   "id": "3cb1db44-9af1-4bb5-a427-c86b2f5b7157",
   "metadata": {},
   "outputs": [],
   "source": [
    "def define_environment(model):\n",
    "    env = model.Environment()\n",
    "    env.newPropertyInt(\"sugar_growback_rate\", S_ALPHA)\n",
    "    env.newPropertyInt(\"sugar_max_capacity\", S_MAX)\n",
    "    \n",
    "    # agent status\n",
    "    env.newPropertyInt(\"agent_status_unoccupied\", sugarscape_common.AGENT_STATUS_UNOCCUPIED)\n",
    "    env.newPropertyInt(\"agent_status_occupied\", sugarscape_common.AGENT_STATUS_OCCUPIED)\n",
    "    env.newPropertyInt(\"agent_status_movement_requested\", sugarscape_common.AGENT_STATUS_MOVEMENT_REQUESTED)\n",
    "    env.newPropertyInt(\"agent_status_movement_unresolved\", sugarscape_common.AGENT_STATUS_MOVEMENT_UNRESOLVED)"
   ]
  },
  {
   "cell_type": "markdown",
   "id": "07814f5d-8f56-40ea-a186-258006134f86",
   "metadata": {},
   "source": [
    "*Note: Although a default value for each property is set above, there are a number of ways that this can be overridden when creating the simulation object later. This can be useful if instantiating multiple simulations with differing environment properties.* "
   ]
  },
  {
   "cell_type": "markdown",
   "id": "e06178d8-f6c8-4c88-8a29-5a1cbf8abd53",
   "metadata": {},
   "source": [
    "# Defining the Agents"
   ]
  },
  {
   "cell_type": "markdown",
   "id": "2760641c-53a0-4610-a9e4-0edf95ef4e53",
   "metadata": {},
   "source": [
    "A FLAME GPU model can consist of any number of agents. Our Sugarscape model requires only a single agent type that will represent a single cell of the Sugarscape model it. It therefore requires an `x` and `y` position (identifying the position within a regular 2D lattice) and variables that hold information about both Sugarscape agents and the environment cell itself.\n",
    "\n",
    "The agent definition below creates three agent functions (`metabolise`, `growback` and `move`). The `newRTCFunction` method is used to specify these alongside the `pyflamegpu.codegen` module which which has a `translate` function. The `translate` function will take a pure python agent function (the format of which is described later) and transpile (the process of converting source code from one programming language to another) it to C++. The `newRTCFunction` call indicates that it is a **R**un**T**ime **C**ompilation function which will ensure the C++ source is compiled during model initialisation. This translation from Python to C++ for compilation is a requirement of FLAME GPU which uses NVIDIA CUDA to program the GPU device. All agent functions are compiled with a FLAME GPU device API which provides the mechanisms to query agent variables, messages and the environment. If you wish to see the transpiled C++ then you can `print` the output of the `translate` function and inspect this yourself. It has a very close resemblance to the underlying Python.\n",
    "\n",
    "*Note: The definition of an agent does not actually require any specialisation in terms of what type of spatial domain an agent lives within. Agents may may exist within regular grid (as is the case of the Sugarscape model), points within continuous space, a network, or any other domain abstraction. Rather than specialisation of agents, messages are instead specialised as a mechanism for agents to communicate within specific spatial constructs. The `x` and `y` variables exist so that the agent can communicate using the `Array2D` message specialism.*\n",
    "\n",
    "The model variables are mapped to agent variables as follows;\n",
    "\n",
    "| Model Variable | Agent Variable Name | Description\n",
    "| :--- | :--- | :--- |\n",
    "| $s$ | `env_sugar_level` | Environment sugar level |\n",
    "| $m$ | `metabolism` | Metabolism |\n",
    "| $w$ | `sugar_level` | Sugar Wealth |\n",
    "|  | `env_sugar_max` | Each cell has a maximum sugar level which can be no greater than $S_{max}$"
   ]
  },
  {
   "cell_type": "code",
   "execution_count": 173,
   "id": "6a67372e-1e3b-406a-95d4-5f2457837f6f",
   "metadata": {},
   "outputs": [],
   "source": [
    "def define_agents(model):\n",
    "    agent = model.newAgent(\"agent\")\n",
    "    \n",
    "    # Generic variables\n",
    "    agent.newVariableInt(\"x\")\n",
    "    agent.newVariableInt(\"y\")\n",
    "    agent.newVariableInt(\"agent_id\")\n",
    "    agent.newVariableInt(\"status\")\n",
    "    # Sugarscape agent specific variables\n",
    "    agent.newVariableInt(\"sugar_level\")\n",
    "    agent.newVariableInt(\"metabolism\")\n",
    "    # Environment cell specific variables\n",
    "    agent.newVariableInt(\"env_sugar_level\")\n",
    "    agent.newVariableInt(\"env_max_sugar_level\")\n",
    "\n",
    "    # Metabolise, growback and move functions\n",
    "    metabolise_fn = agent.newRTCFunction(\"metabolise\", pyflamegpu.codegen.translate(metabolise))\n",
    "    growback_fn = agent.newRTCFunction(\"growback\", pyflamegpu.codegen.translate(growback))\n",
    "    move_fn = agent.newRTCFunction(\"move\", pyflamegpu.codegen.translate(move))\n",
    "\n",
    "    "
   ]
  },
  {
   "cell_type": "markdown",
   "id": "0a45c6ae-e27d-4775-81e8-c0d81ca531ca",
   "metadata": {},
   "source": [
    "# Specifying the Functional Dependencies"
   ]
  },
  {
   "cell_type": "markdown",
   "id": "bf9010b4-5531-4717-b0c9-4cbde89ab50a",
   "metadata": {},
   "source": [
    "A FLAME GPU simulation consists of the execution of a set of simulation steps. Each step has represents a single iteration of the simulation and is made up of a set of agent functions that are executed. The order of function execution creates a directed graph where functions depend on one another either;\n",
    "\n",
    "1. Directly i.e. function 'B' has a dependency on function 'A' if it expects function 'A' to have executed first, or\n",
    "2. Indirectly i.e. function 'B' has a dependency on function 'A' if function b reads a message which function A will output.\n",
    "\n",
    "We have not specified any messages yet within our model but we can specify that our functions have a set of direct dependencies. This can be done either explicitly, by specifying the layers ([see docs](https://docs.flamegpu.com/guide/defining-execution-order/layers.html)) on which function will execute or by specifying the actual dependencies ([see docs](https://docs.flamegpu.com/guide/defining-execution-order/dependency-graph.html)). The later is preferable as greater care must be taken in the specification of layers to ensure that dependencies are respected.\n",
    "\n",
    "The cell below defines a function to specify the functional dependencies. It also adds an execution root, which can be an agent function or in this case a submodel (described later) which is used to provide conflict free movement of the agents. The call to the `generateLayers` function freezes the dependencies and generates a graph of execution layers which respects the dependencies."
   ]
  },
  {
   "cell_type": "code",
   "execution_count": 174,
   "id": "269e7235-b633-48b3-a0a5-b01af7a3a99a",
   "metadata": {},
   "outputs": [],
   "source": [
    "def define_dependencies(model, movement_submodel):\n",
    "    \"\"\"\n",
    "    Control Flow\n",
    "    \"\"\"\n",
    "    agent = model.Agent(\"agent\")\n",
    "    move_fn = agent.Function(\"move\")\n",
    "    growback_fn = agent.Function(\"growback\")\n",
    "    metabolise_fn = agent.Function(\"metabolise\")\n",
    "\n",
    "    # specify the dependencies\n",
    "    model.addExecutionRoot(movement_submodel)\n",
    "    move_fn.dependsOn(growback_fn)\n",
    "    growback_fn.dependsOn(metabolise_fn)\n",
    "    metabolise_fn.dependsOn(movement_submodel)\n",
    "    model.generateLayers()\n",
    "    "
   ]
  },
  {
   "cell_type": "markdown",
   "id": "9c43d3a4-3087-4c55-ad64-ca500f08c0b5",
   "metadata": {},
   "source": [
    "# Defining Agent Functions"
   ]
  },
  {
   "cell_type": "markdown",
   "id": "bc696b0a-a962-4c67-ac1b-a8d3b7e55bd3",
   "metadata": {},
   "source": [
    "The Python agent functions referred to in our definition of the agent can now be specified. A limited subset of Python is supported which is restricted to Python features that can be easily transpiled to a C++ equivalent at runtime for compilation. For example Python functionality like generator expressions, arrays, dictionaries, etc. which do not have an obvious C++ equivalent are not permitted and will raise an exception. The subset of supported Python is referred to as *agent Python*. All agent Python functions are required to have a function decorator (i.e. `@pyflamegpu.agent_function`). A brief summary of agent Python functions is provided in the table below.\n",
    "\n",
    "| Action | Code format | Notes\n",
    "| :--- | :--- | :--- |\n",
    "| Write a comment | `# This will be a comment` | |\n",
    "| Declare a local variable | `variable_name = value` | *Variables do not require a type however if a specific type is required this can be inferred i.e.* `variable_name = float(value)`\n",
    "| Read an agent variable | `variable_name = pyflamegpu.getVariableInt(\"variable_name\")` | *Int can be replaced by other types and should match the type used when defining the agent variable in the AgentDescription.* |\n",
    "| Get the value of an environment property of type Int | `pyflamegpy.environment.getPropertyInt(\"property_name\")` | *Int can be replaced by other types.* |\n",
    "| Iterate & access input messages | `for msg in message_in :` <br>&nbsp;&nbsp; `# Each message is now accessible inside this loop via msg` | `message_in.wrap(args...)` *can be used to proivide message wrapping. See the [docs](https://docs.flamegpu.com/guide/agent-functions/agent-communication.html#reading-messages) for more information.* |\n",
    "| Read an input message variable value | `msg.getVariableInt(\"variable_name\");` | *Must be called within a message loop. Int can be replaced by other types.*|\n",
    "| Set an output message variable value | `pyflamegpu.message_out.setVariableInt(\"variable_name\", value_to_set_variable_to)` | *Function definition must have specified a message output. Int can be replaced by other types.* |\n",
    "| Generate a random float in the range [0,1) | `pyflamegpu.random.uniformFloat()` | *Other types of random distributions are described in the [docs].*(https://docs.flamegpu.com/guide/agent-functions/random-numbers.html).|\n",
    "| Function leaves agent alive | `return pyflamegpu.ALIVE` | |\n",
    "| Function kills agent | `return pyflamegpu.DEAD` | |\n",
    "\n",
    "The cell below defines the three agent functions. The `metabolise` and `growback` function are incomplete but can be left as is for now. The move function does not actually move any Sugarscape agents but sets their intention to move by changing the `status` variable to `agent_status_movement_unresolved`. The actual movement and communication via messaging will take place within the movement submodel."
   ]
  },
  {
   "cell_type": "code",
   "execution_count": 175,
   "id": "78aa6ccc-e534-46db-b70d-be5532773ef6",
   "metadata": {},
   "outputs": [],
   "source": [
    "@pyflamegpu.agent_function\n",
    "def metabolise(message_in: pyflamegpu.MessageNone, message_out: pyflamegpu.MessageNone):\n",
    "    return pyflamegpu.ALIVE\n",
    "    \n",
    "\n",
    "@pyflamegpu.agent_function\n",
    "def growback(message_in: pyflamegpu.MessageNone, message_out: pyflamegpu.MessageNone):\n",
    "    return pyflamegpu.ALIVE\n",
    "\n",
    "@pyflamegpu.agent_function\n",
    "def move(message_in: pyflamegpu.MessageNone, message_out: pyflamegpu.MessageNone):\n",
    "    status = pyflamegpu.getVariableInt(\"status\");\n",
    "        \n",
    "    # set all active agents to unresolved as they may now want to move\n",
    "    if (status == pyflamegpu.environment.getPropertyInt(\"agent_status_occupied\")) :\n",
    "        status = pyflamegpu.environment.getPropertyInt(\"agent_status_movement_unresolved\")\n",
    "\n",
    "    pyflamegpu.setVariableInt(\"status\", status);\n",
    "\n",
    "    return pyflamegpu.ALIVE"
   ]
  },
  {
   "cell_type": "markdown",
   "id": "c77de09a-e249-43ea-ba62-ba9a1c16276a",
   "metadata": {},
   "source": [
    "# Creation of Initial Population Data"
   ]
  },
  {
   "cell_type": "markdown",
   "id": "7cd3f35f-ceb8-42af-aa91-ac8b3952ee23",
   "metadata": {},
   "source": [
    "*Note: It is not important to fully understand how this code works other than to know that it generates the initial set of agents and the initial sugar distribution.*\n",
    "\n",
    "Initialisation of the originally described Sugarscape model in an environment size of $49 \\times 49$ requires the creation of a sugar distribution that defines a topography of two peaks separated by a valley. In order to define a scalable equivalent model in which the environment size of $D \\times D$ (defined in [sugarscape_common.py](sugarscape_common.py)) can be dynamically specified, the number of sugar peaks with a uniform random position, $P$, can be determined as $\\frac{2D^{2}}{49*49}$. Peaks are not allowed to exist within an Euclidean distance of $20$ of each other within the torus environment to ensure that peaks do not exceed $S_{max}$. Each position $x$ within the environment has an initial sugar volume, $s_{x}$ influenced by position $p$ of the $P$ peaks according to the following Equation;\n",
    "\n",
    "$$s_{x} = \\sum\\limits_{i}^{P} 4 - \\left( 4 \\wedge \\lfloor{\\frac{ \\lVert p_{i} - x \\rVert}{5}}\\rfloor \\right)$$\n",
    "\n",
    "That is, that initial sugar density is a sum of the sugar distributions from each peak given some fixed boundaries where $\\wedge$ indicates the a minimum operator, ensuring that sugar value contributions from each peak are between $4$ and $0$. The maximum sugar level of each cell $x$ is fixed at $s_{x}$ ensuring that the streucture of the sugar peaks remains intact. Each cell has a probability $\\rho$ of being occupied by a Sugarscape agent during initialisation. The initial population size of sugarscape agents has an expected value of $D^2\\rho$. Each sugarscape agent has an initial $w$ drawn from a uniform random distribution with a range of $W_{min}$ and $W_{max}$ with a metabolism $m$ drawn from a uniform random distribution with a range of $M_{min}$ and $M_{max}$.\n",
    "\n",
    "The initial population of agents is created using an `AgentVector`. Individuals within the initial population are accessed by indexing into the vector and agent variables are set using the `setVariableInt` function (as all agent variables are of type Int). Model variables have the same mapping as in [Defining the Agents](#Defining-the-Agents). I.e. $s$ =`env_sugar_level`, $m$ = `metabolism`, $w$ = `sugar_level`. The variable `env_max_sugar_level` represents the maximum sugar level for the specific cell and is equal to the initial value of $s$."
   ]
  },
  {
   "cell_type": "code",
   "execution_count": 176,
   "id": "e7569fdd-28fe-43de-86c3-e9fbf2ab6bcd",
   "metadata": {},
   "outputs": [],
   "source": [
    "def initialise_population(model):\n",
    "    # Create some randomised sugar areas for the map\n",
    "    sugar_hotspots = []\n",
    "    # Calculate the number of hotspots (average denisty based on that of the original model)\n",
    "    num_hotspots = int((2 * sugarscape_common.D * sugarscape_common.D) / (49*49))\n",
    "    for i in range(num_hotspots):\n",
    "        attempts = 0\n",
    "        while True:\n",
    "            hs = [random.randint(0, sugarscape_common.D - 1), random.randint(0, sugarscape_common.D - 1)]\n",
    "            # Check if the new hotspot is at least H_MIN units away from existing ones\n",
    "            if all(math.sqrt((hx - hs[0]) ** 2 + (hy - hs[1]) ** 2) >= H_MIN for hx, hy in sugar_hotspots):\n",
    "                sugar_hotspots.append(hs)\n",
    "                break  # Valid position found, move to the next hotspot\n",
    "            # limit attemtps to create a position\n",
    "            attempts += 1\n",
    "            if attempts == 100:\n",
    "                print(f\"Warning: Maximum attempts reached creating unique location for sugar hotspot {i}.\")\n",
    "                break\n",
    "\n",
    "    # Initialize agent population\n",
    "    init_pop = pyflamegpu.AgentVector(model.Agent(\"agent\"), sugarscape_common.D * sugarscape_common.D)\n",
    "    # Create some random distributions\n",
    "    normal = random.uniform \n",
    "    agent_sugar_dist = lambda: random.randint(W_MIN, W_MAX)\n",
    "    agent_metabolism_dist = lambda: random.randint(M_MIN, M_MAX)\n",
    "    # loop to create agents / cells\n",
    "    i = 0\n",
    "    for x in range(sugarscape_common.D):\n",
    "        for y in range(sugarscape_common.D):\n",
    "            instance = init_pop[i]\n",
    "            i += 1\n",
    "            instance.setVariableInt(\"x\", x)\n",
    "            instance.setVariableInt(\"y\", y)\n",
    "            # chance of cell holding an agent\n",
    "            if normal(0, 1) < P_OCCUPATION:\n",
    "                instance.setVariableInt(\"agent_id\", i)\n",
    "                instance.setVariableInt(\"status\", sugarscape_common.AGENT_STATUS_OCCUPIED)\n",
    "                instance.setVariableInt(\"sugar_level\", agent_sugar_dist())\n",
    "                instance.setVariableInt(\"metabolism\", agent_metabolism_dist())\n",
    "            else:\n",
    "                instance.setVariableInt(\"agent_id\", -1)\n",
    "                instance.setVariableInt(\"status\", sugarscape_common.AGENT_STATUS_UNOCCUPIED)\n",
    "                instance.setVariableInt(\"sugar_level\", 0)\n",
    "                instance.setVariableInt(\"metabolism\", 0)\n",
    "    \n",
    "            # Environment-specific variable\n",
    "            env_sugar_lvl = 0\n",
    "            hotspot_core_size = 5\n",
    "    \n",
    "            for hs in sugar_hotspots:\n",
    "                hs_x, hs_y = hs  # Unpack hotspot coordinates\n",
    "                # Compute Euclidean distance to hotspot\n",
    "                hs_dist = math.sqrt((hs_x - x) ** 2 + (hs_y - y) ** 2)\n",
    "                # Compute environmental sugar level\n",
    "                env_sugar_lvl += max(0, 4 - min(4, math.floor(hs_dist / hotspot_core_size)))\n",
    "            env_sugar_lvl = min(env_sugar_lvl, S_MAX)\n",
    "    \n",
    "            # Set environmental sugar variables\n",
    "            instance.setVariableInt(\"env_sugar_level\", env_sugar_lvl)\n",
    "            instance.setVariableInt(\"env_max_sugar_level\", env_sugar_lvl) # All cells begin at their local max sugar\n",
    "    \n",
    "    return init_pop"
   ]
  },
  {
   "cell_type": "markdown",
   "id": "2517a5cc-28ef-4609-87c9-98397a07d35f",
   "metadata": {},
   "source": [
    "# Create the Simulation"
   ]
  },
  {
   "cell_type": "markdown",
   "id": "4c478fb2-1777-4438-9cef-52bbd98927e7",
   "metadata": {},
   "source": [
    "We have now defined the model, environment, agents, the functional dependencies and the initial population data for out model. The last step is to create a simulation object that will instantiate out model with the initial population data ready for execution. Before we do this we will need to add a mechanism for agents to move within our model. FLAME GPU provides an abstraction called a submodel (a model within a model) and a submodel to provide movement of the Sugarscape agents is provided in [movement_submodel.py](movement_submodel.py). This is added to our Sugarscape model by calling the `add_movement_submodel` function. The `define_dependancies` function already inserted the sub model into the function execution graph.\n",
    "\n",
    "The cell below creates the Cuda simulation ready for execution."
   ]
  },
  {
   "cell_type": "code",
   "execution_count": 177,
   "id": "31e1079f-baba-4f60-87a5-4db47eddb3ff",
   "metadata": {},
   "outputs": [],
   "source": [
    "def initialise_simulation():\n",
    "    global model    # make the model global so it can be accessed by other cells\n",
    "\n",
    "    # create the model and define the environmet, agents and dependancies\n",
    "    model = create_model()\n",
    "    define_environment(model)\n",
    "    define_agents(model)\n",
    "    submodel = movement_submodel.add_movement_submodel(model)  # Create a movement submodel to handle agent communication, negotiation and movement\n",
    "    define_dependencies(model, submodel)\n",
    "    \n",
    "    # create an initial population of agents\n",
    "    init_pop = initialise_population(model)\n",
    "\n",
    "    # create a CUDA simulation and set the initial data\n",
    "    cuda_simulation = pyflamegpu.CUDASimulation(model)\n",
    "    cuda_simulation.setPopulationData(init_pop);\n",
    "    \n",
    "    return cuda_simulation\n"
   ]
  },
  {
   "cell_type": "markdown",
   "id": "ab3567cf-ae1d-440f-b7c4-3c01856c7042",
   "metadata": {
    "jp-MarkdownHeadingCollapsed": true
   },
   "source": [
    "## Explaining the Movement Submodel"
   ]
  },
  {
   "cell_type": "markdown",
   "id": "4d71baef-2534-414c-a385-c85dd20ebff6",
   "metadata": {},
   "source": [
    "*Note: If you do not wish to understand the movement submodel and why it is required this section can be skipped.*\n",
    "\n",
    "Submodels within FLAME GPU exist as a mechanism to resolve conflicts which may naturally occur within the modelling abstraction. Within the Sugarscape model, conflict occurs as a result of agent movement but can occur within models for a wide range of reasons where there is any form of competition. (e.g. in chemical bonding, enforcing of mechanical constraints, etc). Consider within the Sugarscape model an agent function that attempts to allow the agents to move. First it would have to read a message from any neighbouring cells to understand the sugar distribution within the environment and then the agent would attempt to move to areas of high sugar concentration. Within a parallel modelling framework like FLAME GPU it is highly likely that multiple agents attempting to move simultaneously would result in agents occupying the same space, competing for sugar within the same cell. The original implementation of the model avoids this conflict as each agent executes its behaviour in serial with the order randomised for fairness. Whilst  serialisation is effective it is very slow.\n",
    "\n",
    "The submodel approach allows a process to occur in which Sugarscape agents will negotiate to move fairly without collisions by respecting a randomly assigned priority. Each iteration of the submodel will allow agents to move. Within the model a function is used to output the cell status, agents then bid to move advertising their priority, the cells consider the requests and respond to confirm movement of the agent with highest priority. The highest priority agent receives this response and can ensure it has left the cell it currently occupies. If an agent is unable to move due to a higher priority agent taking precedence, then the submodel will run again, until either all agents have had the opportunity to move or the maximum number of movement attempts is exceeded (there is a upper bound of 9 attempts which is rarely reached but represents an agent attempting to move to every neighbouring cell). \n",
    "\n",
    "An example of agent collision is shown on the right hand side of the figure below using a simplistic two agent example. In this case, each agent initially requests to move to the same cell location. The cell responds by selecting the agent with highest priority therefore  allowing a single agent to move in the first iteration of the model. An exit condition only allows the main simulation to resume once all agents are *resolved* and as such a second iteration of the sub-model is required for the second agent to find a collision free location. The function dependency graph of the submodel showing its dependency to the `metabolise` function is shown on the left of the image below (the `growback` and `move` functions from the main model are omitted).\n",
    "\n",
    "![Sugarscape submodel](submodel.png)\n",
    "\n",
    "The submodel code is available within the [movement_submodel.py](movement_submodel.py) file. the model format follows that described in this tutorial with the addition of messages and message input and output within the agent functions.\n"
   ]
  },
  {
   "cell_type": "markdown",
   "id": "564cd89a-364a-4537-ae4f-e3e2b1977edf",
   "metadata": {},
   "source": [
    "# Running the Simulation"
   ]
  },
  {
   "cell_type": "code",
   "execution_count": null,
   "id": "1be2b5c2-d4b0-4621-ba8b-f35c3ecdbed6",
   "metadata": {},
   "outputs": [],
   "source": []
  },
  {
   "cell_type": "code",
   "execution_count": 178,
   "id": "07d66431-ea27-42ab-a0ad-1f74258b0891",
   "metadata": {},
   "outputs": [
    {
     "name": "stdout",
     "output_type": "stream",
     "text": [
      "Simulation complete\n"
     ]
    }
   ],
   "source": [
    "def execute_simulation():\n",
    "    # delete previous data\n",
    "    !rm -rf data\n",
    "    !mkdir data\n",
    "    \n",
    "    cuda_simulation = initialise_simulation() \n",
    "    # Log the initial state\n",
    "    cuda_simulation.exportData(f\"data/0.json\")\n",
    "    # simulate for number of steps and log the complete state\n",
    "    for i in range(SIMULATION_STEPS):\n",
    "        cuda_simulation.step()\n",
    "        cuda_simulation.exportData(f\"data/{i+1}.json\")\n",
    "    print(\"Simulation complete\")  \n",
    "\n",
    "execute_simulation()    "
   ]
  },
  {
   "cell_type": "code",
   "execution_count": 179,
   "id": "fd97bd3a-1f89-484e-bed5-e3df76b34e09",
   "metadata": {},
   "outputs": [
    {
     "data": {
      "application/vnd.jupyter.widget-view+json": {
       "model_id": "941ccc79677349739b362b3f32b45440",
       "version_major": 2,
       "version_minor": 0
      },
      "image/png": "[encoded data removed]",
      "text/html": [
       "\n",
       "            <div style=\"display: inline-block;\">\n",
       "                <div class=\"jupyter-widgets widget-label\" style=\"text-align: center;\">\n",
       "                    Figure\n",
       "                </div>\n",
       "                <img src='data:image/png;base64,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' width=640.0/>\n",
       "            </div>\n",
       "        "
      ],
      "text/plain": [
       "Canvas(toolbar=Toolbar(toolitems=[('Home', 'Reset original view', 'home', 'home'), ('Back', 'Back to previous …"
      ]
     },
     "metadata": {},
     "output_type": "display_data"
    }
   ],
   "source": [
    "\n",
    "# requires ipympl\n",
    "\n",
    "#sugarscape_visualiser.plot_state(0)\n",
    "#sugarscape_visualiser.plot_state(1)\n",
    "#sugarscape_visualiser.plot_state(20)\n",
    "#sugarscape_visualiser.plot_state(30)\n",
    "#sugarscape_visualiser.plot_state(40)\n",
    "\n",
    "#ani = sugarscape_visualiser.animate_states(10)\n",
    "\n",
    "sugarscape_visualiser.display_states(100)"
   ]
  },
  {
   "cell_type": "code",
   "execution_count": 110,
   "id": "bb495d1a-72f5-4333-92d7-3b6db8758823",
   "metadata": {},
   "outputs": [],
   "source": [
    "@pyflamegpu.agent_function\n",
    "def metabolise(message_in: pyflamegpu.MessageNone, message_out: pyflamegpu.MessageNone):\n",
    "    \n",
    "    return pyflamegpu.ALIVE\n",
    "\n",
    "@pyflamegpu.agent_function\n",
    "def growback(message_in: pyflamegpu.MessageNone, message_out: pyflamegpu.MessageNone):\n",
    "    \n",
    "    return pyflamegpu.ALIVE\n"
   ]
  },
  {
   "cell_type": "markdown",
   "id": "6d967cb5-c077-4336-86a2-b0ecac493000",
   "metadata": {},
   "source": [
    "## Solution 1"
   ]
  },
  {
   "cell_type": "code",
   "execution_count": 111,
   "id": "9316eb98-8840-485a-941d-7f2198714d9a",
   "metadata": {},
   "outputs": [],
   "source": [
    "@pyflamegpu.agent_function\n",
    "def metabolise(message_in: pyflamegpu.MessageNone, message_out: pyflamegpu.MessageNone):\n",
    "    agent_sugar_level = pyflamegpu.getVariableInt(\"sugar_level\");\n",
    "    env_sugar_level = pyflamegpu.getVariableInt(\"env_sugar_level\");\n",
    "    status = pyflamegpu.getVariableInt(\"status\");\n",
    "\n",
    "    # metabolise if occupied\n",
    "    if (status == pyflamegpu.environment.getPropertyInt(\"agent_status_occupied\")  or \n",
    "        status == pyflamegpu.environment.getPropertyInt(\"agent_status_movement_unresolved\")  ):\n",
    "        \n",
    "        # store any sugar present in the cell\n",
    "        if (env_sugar_level > 0) :\n",
    "            agent_sugar_level += env_sugar_level\n",
    "            # Occupied cells are marked as -1 sugar.\n",
    "            env_sugar_level = 0;\n",
    "\n",
    "        # metabolise\n",
    "        agent_sugar_level -= pyflamegpu.getVariableInt(\"metabolism\")\n",
    "\n",
    "        # check if agent dies\n",
    "        if (agent_sugar_level <= 0) :\n",
    "            status = pyflamegpu.environment.getPropertyInt(\"agent_status_unoccupied\");\n",
    "            # env_sugar_level = 0;\n",
    "            pyflamegpu.setVariableInt(\"agent_id\", -1);\n",
    "            pyflamegpu.setVariableInt(\"metabolism\", 0);\n",
    "            pyflamegpu.setVariableInt(\"status\", status);\n",
    "\n",
    "    pyflamegpu.setVariableInt(\"sugar_level\", agent_sugar_level);\n",
    "    pyflamegpu.setVariableInt(\"env_sugar_level\", env_sugar_level);\n",
    "\n",
    "    return pyflamegpu.ALIVE\n",
    "\n",
    "@pyflamegpu.agent_function\n",
    "def growback(message_in: pyflamegpu.MessageNone, message_out: pyflamegpu.MessageNone):\n",
    "    env_sugar_level = pyflamegpu.getVariableInt(\"env_sugar_level\");\n",
    "    status = pyflamegpu.getVariableInt(\"status\");\n",
    "    env_max_sugar_level = pyflamegpu.getVariableInt(\"env_max_sugar_level\");\n",
    "    \n",
    "    # growback if unoccupied\n",
    "    if (status == pyflamegpu.environment.getPropertyInt(\"agent_status_unoccupied\")) :\n",
    "        env_sugar_level += pyflamegpu.environment.getPropertyInt(\"sugar_growback_rate\")\n",
    "        if (env_sugar_level > env_max_sugar_level) :\n",
    "            env_sugar_level = env_max_sugar_level\n",
    "            \n",
    "\n",
    "    pyflamegpu.setVariableInt(\"env_sugar_level\", env_sugar_level);\n",
    "\n",
    "    return pyflamegpu.ALIVE\n"
   ]
  },
  {
   "cell_type": "code",
   "execution_count": 113,
   "id": "140a1862-896c-4dca-913e-d851e3a2fee6",
   "metadata": {},
   "outputs": [
    {
     "name": "stdout",
     "output_type": "stream",
     "text": [
      "Simulation complete\n"
     ]
    }
   ],
   "source": [
    "execute_simulation()"
   ]
  },
  {
   "cell_type": "code",
   "execution_count": 112,
   "id": "b37104ff-e663-4b5e-8736-0550d124fdf2",
   "metadata": {},
   "outputs": [
    {
     "name": "stdout",
     "output_type": "stream",
     "text": [
      "--------------------\n",
      "Layer 0\n",
      "--------------------\n",
      "movement-submodel\n",
      "\n",
      "--------------------\n",
      "Layer 1\n",
      "--------------------\n",
      "metabolise\n",
      "\n",
      "--------------------\n",
      "Layer 2\n",
      "--------------------\n",
      "growback\n",
      "\n",
      "--------------------\n",
      "Layer 3\n",
      "--------------------\n",
      "move\n",
      "\n",
      "\n"
     ]
    }
   ],
   "source": [
    "actualLayers = model.getConstructedLayersString()\n",
    "# Print the layers to the console\n",
    "print(actualLayers)\n",
    "    "
   ]
  },
  {
   "cell_type": "code",
   "execution_count": null,
   "id": "9929d710-399b-4ddc-8be7-6087ff5260d8",
   "metadata": {},
   "outputs": [],
   "source": []
  }
 ],
 "metadata": {
  "kernelspec": {
   "display_name": "Python 3 (ipykernel)",
   "language": "python",
   "name": "python3"
  },
  "language_info": {
   "codemirror_mode": {
    "name": "ipython",
    "version": 3
   },
   "file_extension": ".py",
   "mimetype": "text/x-python",
   "name": "python",
   "nbconvert_exporter": "python",
   "pygments_lexer": "ipython3",
   "version": "3.12.9"
  }
 },
 "nbformat": 4,
 "nbformat_minor": 5
}
